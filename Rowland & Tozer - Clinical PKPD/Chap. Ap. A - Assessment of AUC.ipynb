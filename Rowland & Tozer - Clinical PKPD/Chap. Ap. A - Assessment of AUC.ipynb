{
 "cells": [
  {
   "cell_type": "markdown",
   "metadata": {},
   "source": [
    "# **Assessment of AUC**"
   ]
  },
  {
   "cell_type": "code",
   "execution_count": 1,
   "metadata": {},
   "outputs": [],
   "source": [
    "import pandas as pd"
   ]
  },
  {
   "cell_type": "markdown",
   "metadata": {},
   "source": [
    "## **Exercise 1**\n",
    "Table A-2 lists the plasma concentrations o zileuton (Zyflo), a drug used in the treatment o asthma, following a 600-mg oral dose.<br>\n",
    "\n",
    "| Time (hr)       | 0     | 0.5   | 1     | 1.5   | 2     | 3     | 4     | 6     | 8     | 10    | 12    | 14    | 24    |\n",
    "|------------------|-------|-------|-------|-------|-------|-------|-------|-------|-------|-------|-------|-------|-------|\n",
    "| Concentration (mg/L) | 0.000     | 2.140  | 2.950  | 3.250  | 3.270  | 2.680  | 2.150  | 1.120  | 0.611 | 0.321 | 0.180 | 0.101 | 0.011 |\n",
    "\n",
    "_Plasma Concentration of Zileuton with Time after a Single 600-mg Oral Dose._\n",
    "\n",
    "Using the trapezoidal rule, determine the AUC from 0 to 24 hr after the single 600-mg oral dose. Remember that the area of each trapezoid formed by the successive concentrations is the product of the average concentration and the time interval between them. The total area is the sum of the areas of each of the successive trapezoids."
   ]
  },
  {
   "cell_type": "code",
   "execution_count": 2,
   "metadata": {},
   "outputs": [
    {
     "name": "stdout",
     "output_type": "stream",
     "text": [
      "AUC = 17.65 mg-hr/L\n"
     ]
    }
   ],
   "source": [
    "dose = 600\n",
    "data = pd.DataFrame({\n",
    "    \"time\": [0, 0.5, 1, 1.5, 2, 3, 4, 6, 8, 10, 12, 14, 24],\n",
    "    \"concentration\": [0, 2.14, 2.95, 3.25, 3.27, 2.68, 2.15, 1.12, 0.611, 0.321, 0.180, 0.101, 0.011]\n",
    "})\n",
    "\n",
    "# ============================ TRAPEIZOIDAL RULE ==============================\n",
    "def trapezoidal_rule(x, y):\n",
    "    n = len(x)\n",
    "    return sum((y[i] + y[i+1]) * (x[i+1] - x[i]) / 2 for i in range(n - 1))\n",
    "# =============================================================================\n",
    "\n",
    "print(f'''AUC = {trapezoidal_rule(x=data.time, y=data.concentration) :.2f} mg-hr/L''')"
   ]
  }
 ],
 "metadata": {
  "kernelspec": {
   "display_name": "env",
   "language": "python",
   "name": "python3"
  },
  "language_info": {
   "codemirror_mode": {
    "name": "ipython",
    "version": 3
   },
   "file_extension": ".py",
   "mimetype": "text/x-python",
   "name": "python",
   "nbconvert_exporter": "python",
   "pygments_lexer": "ipython3",
   "version": "3.12.6"
  }
 },
 "nbformat": 4,
 "nbformat_minor": 2
}
