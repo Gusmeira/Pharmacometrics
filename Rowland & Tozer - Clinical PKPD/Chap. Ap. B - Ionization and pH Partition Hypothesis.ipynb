{
 "cells": [
  {
   "cell_type": "markdown",
   "metadata": {},
   "source": [
    "# **Ionization and pH Partition Hypothesis**"
   ]
  },
  {
   "cell_type": "code",
   "execution_count": 1,
   "metadata": {},
   "outputs": [],
   "source": [
    "from IPython.display import display, Math\n",
    "import numpy as np\n",
    "import pandas as pd\n",
    "\n",
    "import plotly.express as px\n",
    "import plotly.graph_objects as go\n",
    "import plotly.io as pio\n",
    "pio.renderers.default = 'png'\n",
    "\n",
    "import Module_"
   ]
  },
  {
   "cell_type": "markdown",
   "metadata": {},
   "source": [
    "## **Exercise 1**\n",
    "Calculate the percent ionized:<br>\n",
    "**(a)** in blood (pH 7.4)<br>\n",
    "**(b)** in urine (pH 6.2).<br>\n",
    "The percent ionized is given by the formula:  \n",
    "\n",
    "$$\\text{Percent Ionized} = \\frac{\\text{Ionized concentration} \\cdot 100}{\\text{Ionized concentration} + \\text{Un-ionized concentration}}$$\n",
    "or  \n",
    "$$\\text{Percent Ionized} = \\left(\\frac{\\frac{\\text{Ionized concentration}}{\\text{Un-ionized concentration}}}{\\frac{\\text{Ionized concentration}}{\\text{Un-ionized concentration}} + 1}\\right) \\cdot 100$$"
   ]
  },
  {
   "cell_type": "code",
   "execution_count": 60,
   "metadata": {},
   "outputs": [
    {
     "data": {
      "text/latex": [
       "$\\displaystyle \\text{pH} = \\text{pKa} + \\log_{10} \\left( \\frac{\\text{Ionized concentration}}{\\text{Un-ionized concentration}} \\right)$"
      ],
      "text/plain": [
       "<IPython.core.display.Math object>"
      ]
     },
     "metadata": {},
     "output_type": "display_data"
    },
    {
     "name": "stdout",
     "output_type": "stream",
     "text": [
      "(a)\n",
      "fraction = 158.49%\n",
      "ionized in blood = 61.31%\n",
      "\n",
      "(b)\n",
      "fraction = 10.00%\n",
      "ionized in urine = 9.09%\n",
      "\n"
     ]
    }
   ],
   "source": [
    "pKa = 7.2\n",
    "pH = 7.4\n",
    "\n",
    "# ============================ HENDERSON HASSELBALCH ==============================\n",
    "def henderson_hasselbalch(pKa=None, pH=None, fraction=None, type:str='ph', acid=True, printing=True):\n",
    "    if (acid == True) and (printing == True):\n",
    "        display(Math(r'\\text{pH} = \\text{pKa} + \\log_{10} \\left( \\frac{\\text{Ionized concentration}}{\\text{Un-ionized concentration}} \\right)'))\n",
    "    elif (acid == False) and (printing == True):\n",
    "        display(Math(r'\\text{pH} = \\text{pKa} + \\log_{10} \\left( \\frac{\\text{Un-ionized concentration}}{\\text{Ionized concentration}} \\right)'))\n",
    "    if (type == 'ph'):\n",
    "        return pKa+np.log10(fraction)\n",
    "    if (type == 'pka'):\n",
    "        return pH-np.log10(fraction)\n",
    "    if (type == 'fraction'):\n",
    "        return 10**(pH-pKa)\n",
    "    if (type == 'inverse fraction'):\n",
    "        return 10**(pKa-pH)\n",
    "# ================================================================================\n",
    "    \n",
    "fraction = henderson_hasselbalch(pKa=pKa, pH=pH, type='fraction', acid=True, printing=True)\n",
    "ionized = 100*fraction/(fraction+1)\n",
    "print(f'''(a)\n",
    "fraction = {100*fraction :.2f}%\n",
    "ionized in blood = {ionized :.2f}%\n",
    "''')\n",
    "\n",
    "pH = 6.2\n",
    "fraction = henderson_hasselbalch(pKa=pKa, pH=pH, type='fraction', acid=True, printing=False)\n",
    "ionized = 100*fraction/(fraction+1)\n",
    "print(f'''(b)\n",
    "fraction = {100*fraction :.2f}%\n",
    "ionized in urine = {ionized :.2f}%\n",
    "''')"
   ]
  },
  {
   "cell_type": "markdown",
   "metadata": {},
   "source": [
    "## **Exercise 2**\n",
    "Itraconazole, a weak base, has a pKa of 3.8. Calculate the percent ionized (a) in the stomach (pH 1.8) and (b) in the blood (pH 7.4)."
   ]
  },
  {
   "cell_type": "code",
   "execution_count": 66,
   "metadata": {},
   "outputs": [
    {
     "data": {
      "text/latex": [
       "$\\displaystyle \\text{pH} = \\text{pKa} + \\log_{10} \\left( \\frac{\\text{Un-ionized concentration}}{\\text{Ionized concentration}} \\right)$"
      ],
      "text/plain": [
       "<IPython.core.display.Math object>"
      ]
     },
     "metadata": {},
     "output_type": "display_data"
    },
    {
     "name": "stdout",
     "output_type": "stream",
     "text": [
      "(a)\n",
      "fraction ionized = 100.00%\n",
      "ionized in stomach = 99.01%\n",
      "\n",
      "(b)\n",
      "fraction ionized = 0.00025%\n",
      "ionized in blood = 0.025%\n",
      "\n"
     ]
    }
   ],
   "source": [
    "pKa = 3.8\n",
    "pH = 1.8 \n",
    "fraction = henderson_hasselbalch(pKa=pKa, pH=pH, type='inverse fraction', acid=False, printing=True)\n",
    "ionized = 100*fraction/(fraction+1)\n",
    "print(f'''(a)\n",
    "fraction ionized = {fraction :.2f}%\n",
    "ionized in stomach = {ionized :.2f}%\n",
    "''')\n",
    "\n",
    "pH = 7.4\n",
    "fraction = henderson_hasselbalch(pKa=pKa, pH=pH, type='inverse fraction', acid=False, printing=False)\n",
    "ionized = 100*fraction/(fraction+1)\n",
    "print(f'''(b)\n",
    "fraction ionized = {fraction :.5f}%\n",
    "ionized in blood = {ionized :.3f}%\n",
    "''')"
   ]
  }
 ],
 "metadata": {
  "kernelspec": {
   "display_name": "env",
   "language": "python",
   "name": "python3"
  },
  "language_info": {
   "codemirror_mode": {
    "name": "ipython",
    "version": 3
   },
   "file_extension": ".py",
   "mimetype": "text/x-python",
   "name": "python",
   "nbconvert_exporter": "python",
   "pygments_lexer": "ipython3",
   "version": "3.12.6"
  }
 },
 "nbformat": 4,
 "nbformat_minor": 2
}
