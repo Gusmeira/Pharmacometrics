{
 "cells": [
  {
   "cell_type": "markdown",
   "metadata": {},
   "source": [
    "# **Plasma-to-Blood Concentration Ratio**"
   ]
  },
  {
   "cell_type": "code",
   "execution_count": 1,
   "metadata": {},
   "outputs": [],
   "source": [
    "from IPython.display import display, Math\n",
    "import numpy as np\n",
    "import pandas as pd\n",
    "\n",
    "import plotly.express as px\n",
    "import plotly.graph_objects as go\n",
    "import plotly.io as pio\n",
    "pio.renderers.default = 'png'\n",
    "\n",
    "import Module_"
   ]
  },
  {
   "cell_type": "markdown",
   "metadata": {},
   "source": [
    "## **Exercise1**\n",
    "\n",
    "The ratio of concentrations (plasma/blood) of a given drug averages about 0.425 in a typical patient who has a hematocrit of 0.45 and a fraction unbound in plasma of 0.1.  \n",
    "**a.** Calculate the ratio of the concentration in blood cells to that unbound in plasma (p).  \n",
    "**b.** Hematocrit is decreased to 0.27 in an anemic patient, but serum concentration of albumin, the protein to which this drug binds, remains normal (4.3 g/dL). Calculate the expected plasma-to-blood ratio in this patient, given that p is unchanged.  \n",
    "**c.** Predict the ratio of plasma-to-blood concentrations in a patient with nephrotic syndrome in whom the hematocrit is normal but the fraction unbound in plasma is increased to 0.32, a secondary consequence of the loss of plasma proteins into urine."
   ]
  },
  {
   "cell_type": "code",
   "execution_count": 15,
   "metadata": {},
   "outputs": [
    {
     "name": "stdout",
     "output_type": "stream",
     "text": [
      "(a)\n",
      "Normal\n",
      "Kp(BC) = 40.07\n",
      "\n",
      "(b)\n",
      "Anemic Patient\n",
      "C/Cb = 55.19%\n",
      "\n",
      "(b)\n",
      "Nephotic Syndrome\n",
      "C/Cb = 15.82%\n",
      "\n"
     ]
    }
   ],
   "source": [
    "C_Cb = 0.425\n",
    "H = 0.45\n",
    "fu = 0.1\n",
    "\n",
    "Kp_bc = (H-1+C_Cb**-1)/(fu*H)\n",
    "print(f'''(a)\n",
    "Normal\n",
    "Kp(BC) = {Kp_bc :.2f}\n",
    "''')\n",
    "\n",
    "H = 0.27\n",
    "C_Cb = 1/(1+H*(fu*Kp_bc-1))\n",
    "print(f'''(b)\n",
    "Anemic Patient\n",
    "C/Cb = {100*C_Cb :.2f}%\n",
    "''')\n",
    "\n",
    "H = 0.45\n",
    "fu = 0.32\n",
    "C_Cb = 1/(1+H*(fu*Kp_bc-1))\n",
    "print(f'''(b)\n",
    "Nephotic Syndrome\n",
    "C/Cb = {100*C_Cb :.2f}%\n",
    "''')"
   ]
  }
 ],
 "metadata": {
  "kernelspec": {
   "display_name": "env",
   "language": "python",
   "name": "python3"
  },
  "language_info": {
   "codemirror_mode": {
    "name": "ipython",
    "version": 3
   },
   "file_extension": ".py",
   "mimetype": "text/x-python",
   "name": "python",
   "nbconvert_exporter": "python",
   "pygments_lexer": "ipython3",
   "version": "3.12.6"
  }
 },
 "nbformat": 4,
 "nbformat_minor": 2
}
