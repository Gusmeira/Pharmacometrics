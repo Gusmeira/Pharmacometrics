{
 "cells": [
  {
   "cell_type": "markdown",
   "metadata": {},
   "source": [
    "# **Well-Stirred Model of Hepatic Clearance**"
   ]
  },
  {
   "cell_type": "code",
   "execution_count": 1,
   "metadata": {},
   "outputs": [],
   "source": [
    "from IPython.display import display, Math\n",
    "import numpy as np\n",
    "import pandas as pd\n",
    "\n",
    "import plotly.express as px\n",
    "import plotly.graph_objects as go\n",
    "import plotly.io as pio\n",
    "pio.renderers.default = 'png'\n",
    "\n",
    "import Module_"
   ]
  },
  {
   "cell_type": "markdown",
   "metadata": {},
   "source": [
    "## **Exercise 1**  \n",
    "The hepatic clearance of a drug is 2.7 L/min, $ f_u = 0.05 $ and its plasma-to-blood concentration ratio ($ R $) is 0.17. Given that hepatic blood flow is 1.35 L/min, distribution of the drug into the liver is perfusion rate-limited, and the well-stirred model applies, calculate the following parameters:\n",
    "\n",
    "**(a)** Hepatic extraction ratio  \n",
    "**(b)** Intrinsic clearance  \n",
    "**(c)** Comment on the value of intrinsic clearance relative to hepatic blood flow.  "
   ]
  },
  {
   "cell_type": "code",
   "execution_count": 9,
   "metadata": {},
   "outputs": [
    {
     "data": {
      "text/latex": [
       "$\\displaystyle \\text{E}_\\text{H}=\\dfrac{\\text{CL}_\\text{H} \\cdot \\text{R}}{\\text{Q}_\\text{H}}$"
      ],
      "text/plain": [
       "<IPython.core.display.Math object>"
      ]
     },
     "metadata": {},
     "output_type": "display_data"
    },
    {
     "name": "stdout",
     "output_type": "stream",
     "text": [
      "(a)\n",
      "E(H) = 0.34 \n",
      "\n"
     ]
    },
    {
     "data": {
      "text/latex": [
       "$\\displaystyle \\text{CL}_\\text{int}=\\dfrac{\\text{Q}_\\text{H} \\cdot \\text{E}_\\text{H}}{\\text{Q}_\\text{H}\\cdot \\text{R}\\cdot (1-\\text{E}_\\text{H})}$"
      ],
      "text/plain": [
       "<IPython.core.display.Math object>"
      ]
     },
     "metadata": {},
     "output_type": "display_data"
    },
    {
     "name": "stdout",
     "output_type": "stream",
     "text": [
      "(b)\n",
      "CL(int) = 81.82 L/min\n",
      "\n",
      "(c)\n",
      "Although CL(int) is much greater than Q(H), E(H) is really low since there is very little unbound drug to cross hepatocyte membranes.\n",
      "\n"
     ]
    }
   ],
   "source": [
    "CL_H = 2.7\n",
    "fu = 0.05\n",
    "R = 0.17\n",
    "Q_H = 1.35\n",
    "\n",
    "display(Math(r'\\text{E}_\\text{H}=\\dfrac{\\text{CL}_\\text{H} \\cdot \\text{R}}{\\text{Q}_\\text{H}}'))\n",
    "E_H = (CL_H*R)/Q_H\n",
    "print(f'''(a)\n",
    "E(H) = {E_H :.2f} \n",
    "''')\n",
    "\n",
    "display(Math(r'\\text{CL}_\\text{int}=\\dfrac{\\text{Q}_\\text{H} \\cdot \\text{E}_\\text{H}}{\\text{Q}_\\text{H}\\cdot \\text{R}\\cdot (1-\\text{E}_\\text{H})}'))\n",
    "CL_int = (Q_H*E_H)/(fu*R*(1-E_H))\n",
    "print(f'''(b)\n",
    "CL(int) = {CL_int :.2f} L/min\n",
    "''')\n",
    "\n",
    "print(f'''(c)\n",
    "Although CL(int) is much greater than Q(H), E(H) is really low since there is very little unbound drug to cross hepatocyte membranes.\n",
    "''')"
   ]
  },
  {
   "cell_type": "markdown",
   "metadata": {},
   "source": [
    "## **Exercise 2**  \n",
    "This question should only be attempted after completion of Chapter 11, Multiple-Dose Regimens.  \n",
    "\n",
    "For a drug entirely eliminated by the liver, with hepatic extraction being the only cause of loss of oral bioavailability, prove that when clearance is uptake permeability rate-limited, the unbound plateau concentration during oral multiple dosing is given by:\n",
    "\n",
    "$$\\text{Cu}_\\text{av,ss} = \\frac{\\text{Dose}}{\\text{PS}_\\text{influx} \\cdot \\tau}$$"
   ]
  }
 ],
 "metadata": {
  "kernelspec": {
   "display_name": "env",
   "language": "python",
   "name": "python3"
  },
  "language_info": {
   "codemirror_mode": {
    "name": "ipython",
    "version": 3
   },
   "file_extension": ".py",
   "mimetype": "text/x-python",
   "name": "python",
   "nbconvert_exporter": "python",
   "pygments_lexer": "ipython3",
   "version": "3.12.6"
  }
 },
 "nbformat": 4,
 "nbformat_minor": 2
}
