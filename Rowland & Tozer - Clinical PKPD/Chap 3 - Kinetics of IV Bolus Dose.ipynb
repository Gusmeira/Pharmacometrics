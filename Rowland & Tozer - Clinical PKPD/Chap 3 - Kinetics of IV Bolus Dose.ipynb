{
 "cells": [
  {
   "cell_type": "markdown",
   "metadata": {},
   "source": [
    "# **Kinetics Following an Intravenous Bolus Dose**"
   ]
  },
  {
   "cell_type": "code",
   "execution_count": 105,
   "metadata": {},
   "outputs": [],
   "source": [
    "from IPython.display import display, Math\n",
    "import numpy as np\n",
    "import pandas as pd\n",
    "\n",
    "import plotly.express as px\n",
    "import plotly.graph_objects as go\n",
    "import plotly.io as pio\n",
    "pio.renderers.default = 'png'\n",
    "\n",
    "import Module_"
   ]
  },
  {
   "cell_type": "markdown",
   "metadata": {},
   "source": [
    "## **Exercise 2**\n",
    "Given that the disposition kinetics of a drug is described by a one-compartment model, which of the following statements is (are) correct?<br>\n",
    "The half-life of a drug following therapeutic doses in humans is 4 hr; therefore,<br>\n",
    "**(a)** The elimination rate constant of this drug is 0.173 /hr<br>\n",
    "**(b)** It takes 16 hr for 87.5% of an i.v. bolus dose to be eliminated<br>\n",
    "**(c)** It takes twice as long to eliminate 37.5 mg following a 50 mg bolus dose as it does to eliminate 50 mg following a 100 mg dose<br>\n",
    "**(d)** Complete urine collection up to 12 hr is needed to provide a good estimate of the ultimate amount of drug excreted unchanged<br>\n",
    "**(e)** The fraction of the administered dose eliminated by a given time is independent of the size of the dose."
   ]
  },
  {
   "cell_type": "markdown",
   "metadata": {},
   "source": [
    "**(a)** ✓<br>\n",
    "Since $\\text{t}_{1/2}=4\\text{ hr}$ and $\\text{t}_{1/2} = \\frac{\\ln 2}{k}$, $k\\approx 0.173 \\text{ hr}^{-1}$.\n",
    "\n",
    "**(b)** ✗<br>\n",
    "Since $\\text{t}_{1/2}=4\\text{ hr}$ and $\\text{Fraction of Dose Remaining} = e^{-k \\cdot t} = \\left(\\frac{1}{2}\\right)^n$, $87.5\\%$ would take 3 half-lives (12 hr) to be eliminated, considering that 16 hr leads to $93.7\\%$ eiminated.\n",
    "\n",
    "**(c)** ✓<br>\n",
    "Considering $\\text{Fraction of Dose Remaining} = e^{-k \\cdot t}$, and $k\\approx 0.173 \\text{ hr}^{-1}$, $37.5/50=75\\%$ and $50/100=50\\%$. When $\\text{t}=4\\,,\\text{Fraction}=50\\%$ and when $\\text{t}=8\\,,\\text{Fraction}=25\\%$.\n",
    "\n",
    "**(d)** ✗<br>\n",
    "By 12 hr (3 $\\text{t}_{1/2}$), only 87.5% o Ae is excreted; to gain a good estimate o Ae $_\\infty$, all urine should be collected or 5 hal -lives (i.e., up to approximately 24 hr).\n",
    "\n",
    "**(e)** ✓<br>\n",
    "Correct up to this chapter not considering nonlinearities."
   ]
  },
  {
   "cell_type": "markdown",
   "metadata": {},
   "source": [
    "## **Exercise 3**\n",
    "For a drug exhibiting one-compartment disposition kinetics, calculate the following:<br>\n",
    "**(a)** The fraction of an i.v. dose remaining in the body at 3 hr, when the half-life is 6 hr.<br>\n",
    "**(b)** The half-life of a drug, when 18% of the dose remains in the body 4 hr after an i.v. bolus dose."
   ]
  },
  {
   "cell_type": "code",
   "execution_count": 106,
   "metadata": {},
   "outputs": [
    {
     "data": {
      "text/latex": [
       "$\\displaystyle \\text{Fraction of Dose Remaining} = e^{-k \\cdot t}$"
      ],
      "text/plain": [
       "<IPython.core.display.Math object>"
      ]
     },
     "metadata": {},
     "output_type": "display_data"
    },
    {
     "name": "stdout",
     "output_type": "stream",
     "text": [
      "(a) \n",
      "k = 0.116 /hr\n",
      "Remaining Fraction = 0.71%\n",
      "\n",
      "(b)\n",
      "Remaining Fraction = 0.18\n",
      "t(1/2) = 1.6 h\n",
      "\n"
     ]
    }
   ],
   "source": [
    "display(Math(r'\\text{Fraction of Dose Remaining} = e^{-k \\cdot t}'))\n",
    "\n",
    "# a\n",
    "k = np.log(2)/6\n",
    "remaining_fraction_3_hr = np.exp(-k*3)\n",
    "print(f'''(a) \n",
    "k = {k :.3f} /hr\n",
    "Remaining Fraction = {remaining_fraction_3_hr :.2f}%\n",
    "''')\n",
    "\n",
    "# b\n",
    "remaining_fraction_4_hr = 0.18\n",
    "k = -np.log(remaining_fraction_4_hr)/4\n",
    "half_life = np.log(2)/k\n",
    "print(f'''(b)\n",
    "Remaining Fraction = 0.18\n",
    "t(1/2) = {half_life :.1f} h\n",
    "''')"
   ]
  },
  {
   "cell_type": "markdown",
   "metadata": {},
   "source": [
    "## **Exercise 4**\n",
    "The average values of clearance and volume of distribution of valproic acid, an antiepileptic drug, in the adult patient population are 0.5 L/hr and 9 L, respectively.<br>\n",
    "**(a)** Calculate the rate of elimination of valproic acid when the plasma concentration is 30 mg/L.<br>\n",
    "**(b)** Calculate the half-life of valproic acid.<br>\n",
    "**(c)** What is the amount of valproic acid in the body at distribution equilibrium when the plasma concentration is 60 mg/L?<br>\n",
    "**(d)** What is the expected plasma concentration 12 hr after an i.v. 700-mg dose of valproic acid (administered as the equivalent amount of the sodium salt)?"
   ]
  },
  {
   "cell_type": "code",
   "execution_count": 107,
   "metadata": {},
   "outputs": [
    {
     "data": {
      "text/latex": [
       "$\\displaystyle \\text{Rate of elimination} = \\text{CL} \\cdot \\text{C}$"
      ],
      "text/plain": [
       "<IPython.core.display.Math object>"
      ]
     },
     "metadata": {},
     "output_type": "display_data"
    },
    {
     "name": "stdout",
     "output_type": "stream",
     "text": [
      "(a)\n",
      "CL = 0.5 L/hr\n",
      "V = 9.0 L\n",
      "C = 30.0 mg/L\n",
      "Rate of Elimination = 15.0 mg/hr\n",
      "\n"
     ]
    },
    {
     "data": {
      "text/latex": [
       "$\\displaystyle \\text{t}_{1/2} = \\frac{\\ln 2 \\cdot \\text{V}}{\\text{CL}}$"
      ],
      "text/plain": [
       "<IPython.core.display.Math object>"
      ]
     },
     "metadata": {},
     "output_type": "display_data"
    },
    {
     "name": "stdout",
     "output_type": "stream",
     "text": [
      "(b)\n",
      "t(1/2) = 12.5 hr\n",
      "\n"
     ]
    },
    {
     "data": {
      "text/latex": [
       "$\\displaystyle \\text{V} = \\frac{\\text{A}}{\\text{C}}$"
      ],
      "text/plain": [
       "<IPython.core.display.Math object>"
      ]
     },
     "metadata": {},
     "output_type": "display_data"
    },
    {
     "name": "stdout",
     "output_type": "stream",
     "text": [
      "(c)\n",
      "A = 540.0 mg\n",
      "\n"
     ]
    },
    {
     "data": {
      "text/latex": [
       "$\\displaystyle \\text{C} = \\text{C}(0) \\cdot e^{-\\text{k} \\cdot \\text{t}}$"
      ],
      "text/plain": [
       "<IPython.core.display.Math object>"
      ]
     },
     "metadata": {},
     "output_type": "display_data"
    },
    {
     "name": "stdout",
     "output_type": "stream",
     "text": [
      "(d)\n",
      "Dose = 700.0 mg\n",
      "C(0) = 77.8 mg/L\n",
      "k = 0.056 /hr\n",
      "t = 12.0 hr\n",
      "C = 39.9 mg/L\n",
      "\n"
     ]
    }
   ],
   "source": [
    "display(Math(r'\\text{Rate of elimination} = \\text{CL} \\cdot \\text{C}'))\n",
    "CL = 0.5\n",
    "V = 9\n",
    "C = 30\n",
    "rate_emilimation = CL*C\n",
    "print(f'''(a)\n",
    "CL = {CL :.1f} L/hr\n",
    "V = {V :.1f} L\n",
    "C = {C :.1f} mg/L\n",
    "Rate of Elimination = {rate_emilimation :.1f} mg/hr\n",
    "''')\n",
    "\n",
    "display(Math(r'\\text{t}_{1/2} = \\frac{\\ln 2 \\cdot \\text{V}}{\\text{CL}}'))\n",
    "half_life = np.log(2)*V/CL\n",
    "print(f'''(b)\n",
    "t(1/2) = {half_life :.1f} hr\n",
    "''')\n",
    "\n",
    "display(Math(r'\\text{V} = \\frac{\\text{A}}{\\text{C}}'))\n",
    "A = V*60\n",
    "print(f'''(c)\n",
    "A = {A :.1f} mg\n",
    "''')\n",
    "\n",
    "display(Math(r'\\text{C} = \\text{C}(0) \\cdot e^{-\\text{k} \\cdot \\text{t}}'))\n",
    "dose = 700\n",
    "C_0 = dose/V\n",
    "t = 12\n",
    "k = CL/V\n",
    "C_f = C_0*np.exp(-k*t)\n",
    "print(f'''(d)\n",
    "Dose = {dose :.1f} mg\n",
    "C(0) = {C_0 :.1f} mg/L\n",
    "k = {k :.3f} /hr\n",
    "t = {t :.1f} hr\n",
    "C = {C_f :.1f} mg/L\n",
    "''')"
   ]
  },
  {
   "attachments": {
    "Chap 3 Ex 5.png": {
     "image/png": "[encoded data removed]"
    }
   },
   "cell_type": "markdown",
   "metadata": {},
   "source": [
    "## **Exercise 5**\n",
    "A drug that displays one-compartment disposition kinetics is administered as a 100-mg single bolus dose. Depicted in Fig. 3-10A is the plasma concentrations of drug observed initially (10 mg/L) and 12 hr later (2.5 mg/L). Depicted in Fig. 3-10B is the cumulative urinary excretion of unchanged drug at 48 hr (60 mg). Complete the figures by drawing continuous lines that depict the fall of drug concentration in plasma and the accumulation of drug in urine with time.\n",
    "\n",
    "_A. Plasma drug concentration–time profile. B. Cumulative amount excreted unchanged with time. Only two points are shown in each graph._\n",
    "\n",
    "![Chap 3 Ex 5.png](<attachment:Chap 3 Ex 5.png>)<br>"
   ]
  },
  {
   "cell_type": "markdown",
   "metadata": {},
   "source": [
    "a) 2.5 mg/L is 25% of the inicial 10 mg/L concentration. So, after 12 hr, $\\text{Fraction of dose remaining} = 0.25 = \\left( \\frac{1}{2} \\right)^{\\text{n}}$, therefore, $n=2$ half-lives. If 12 is 2 half-lives, 1 half-life is 6 hr, so, $\\text{t}_{1/2} = \\frac{0.693}{\\text{k}}$, $k\\approx 0.1155$ /hr.\n",
    "\n",
    "b) We need to consider the amount excreted as $\\text{A}_e = \\text{A}_e\\infty \\cdot (1 - e^{-\\text{k} \\cdot \\text{t}})$. For t = 48 hr, 8 half-lives have occured, so it can be assumed that $\\text{A}_e\\infty = 60$ mg."
   ]
  },
  {
   "cell_type": "code",
   "execution_count": 108,
   "metadata": {},
   "outputs": [
    {
     "ename": "ValueError",
     "evalue": "\nImage export using the \"kaleido\" engine requires the kaleido package,\nwhich can be installed using pip:\n    $ pip install -U kaleido\n",
     "output_type": "error",
     "traceback": [
      "\u001b[1;31m---------------------------------------------------------------------------\u001b[0m",
      "\u001b[1;31mValueError\u001b[0m                                Traceback (most recent call last)",
      "Cell \u001b[1;32mIn[108], line 15\u001b[0m\n\u001b[0;32m      9\u001b[0m fig\u001b[38;5;241m.\u001b[39madd_trace(trace\u001b[38;5;241m=\u001b[39mgo\u001b[38;5;241m.\u001b[39mScatter(x\u001b[38;5;241m=\u001b[39mt, y\u001b[38;5;241m=\u001b[39mC, mode\u001b[38;5;241m=\u001b[39m\u001b[38;5;124m'\u001b[39m\u001b[38;5;124mmarkers\u001b[39m\u001b[38;5;124m'\u001b[39m, marker\u001b[38;5;241m=\u001b[39m\u001b[38;5;28mdict\u001b[39m(color\u001b[38;5;241m=\u001b[39m\u001b[38;5;124m'\u001b[39m\u001b[38;5;124mrgba(164,31,54,1)\u001b[39m\u001b[38;5;124m'\u001b[39m, size\u001b[38;5;241m=\u001b[39m\u001b[38;5;241m10\u001b[39m), showlegend\u001b[38;5;241m=\u001b[39m\u001b[38;5;28;01mFalse\u001b[39;00m))\n\u001b[0;32m     10\u001b[0m fig\u001b[38;5;241m.\u001b[39madd_trace(trace\u001b[38;5;241m=\u001b[39mgo\u001b[38;5;241m.\u001b[39mScatter(x\u001b[38;5;241m=\u001b[39m[\u001b[38;5;241m0\u001b[39m,\u001b[38;5;241m12\u001b[39m], y\u001b[38;5;241m=\u001b[39m[\u001b[38;5;241m10\u001b[39m,\u001b[38;5;241m2.5\u001b[39m], mode\u001b[38;5;241m=\u001b[39m\u001b[38;5;124m'\u001b[39m\u001b[38;5;124mmarkers\u001b[39m\u001b[38;5;124m'\u001b[39m, marker\u001b[38;5;241m=\u001b[39m\u001b[38;5;28mdict\u001b[39m(color\u001b[38;5;241m=\u001b[39m\u001b[38;5;124m'\u001b[39m\u001b[38;5;124mblack\u001b[39m\u001b[38;5;124m'\u001b[39m, size\u001b[38;5;241m=\u001b[39m\u001b[38;5;241m10\u001b[39m), showlegend\u001b[38;5;241m=\u001b[39m\u001b[38;5;28;01mFalse\u001b[39;00m))\n\u001b[0;32m     12\u001b[0m \u001b[43mModule_\u001b[49m\u001b[38;5;241;43m.\u001b[39;49m\u001b[43mmain_layout\u001b[49m\u001b[43m(\u001b[49m\n\u001b[0;32m     13\u001b[0m \u001b[43m    \u001b[49m\u001b[43mfig\u001b[49m\u001b[43m,\u001b[49m\u001b[43m \u001b[49m\u001b[43mtitle\u001b[49m\u001b[38;5;241;43m=\u001b[39;49m\u001b[38;5;124;43m'\u001b[39;49m\u001b[38;5;124;43mPlasma Concentration for 10 mg i.v. in Bolus\u001b[39;49m\u001b[38;5;124;43m'\u001b[39;49m\u001b[43m,\u001b[49m\u001b[43m \u001b[49m\u001b[43mheight\u001b[49m\u001b[38;5;241;43m=\u001b[39;49m\u001b[38;5;241;43m500\u001b[39;49m\u001b[43m,\u001b[49m\u001b[43m \u001b[49m\u001b[43mwidth\u001b[49m\u001b[38;5;241;43m=\u001b[39;49m\u001b[38;5;241;43m600\u001b[39;49m\u001b[43m,\u001b[49m\n\u001b[0;32m     14\u001b[0m \u001b[43m    \u001b[49m\u001b[43mx\u001b[49m\u001b[38;5;241;43m=\u001b[39;49m\u001b[38;5;124;43m'\u001b[39;49m\u001b[38;5;124;43mtime [h]\u001b[39;49m\u001b[38;5;124;43m'\u001b[39;49m\u001b[43m,\u001b[49m\u001b[43m \u001b[49m\u001b[43my\u001b[49m\u001b[38;5;241;43m=\u001b[39;49m\u001b[38;5;124;43m'\u001b[39;49m\u001b[38;5;124;43mConcentration [mg/L]\u001b[39;49m\u001b[38;5;124;43m'\u001b[39;49m\u001b[43m,\u001b[49m\u001b[43m \u001b[49m\u001b[43mx_range\u001b[49m\u001b[38;5;241;43m=\u001b[39;49m\u001b[43m[\u001b[49m\u001b[38;5;241;43m0\u001b[39;49m\u001b[43m,\u001b[49m\u001b[38;5;241;43m49\u001b[39;49m\u001b[43m]\u001b[49m\n\u001b[1;32m---> 15\u001b[0m \u001b[43m)\u001b[49m\u001b[38;5;241;43m.\u001b[39;49m\u001b[43mshow\u001b[49m\u001b[43m(\u001b[49m\u001b[43m)\u001b[49m\n\u001b[0;32m     17\u001b[0m \u001b[38;5;66;03m# ============================================================================\u001b[39;00m\n\u001b[0;32m     19\u001b[0m fig \u001b[38;5;241m=\u001b[39m go\u001b[38;5;241m.\u001b[39mFigure()\n",
      "File \u001b[1;32mc:\\Users\\gustavo.filho\\Documents\\Python\\GitHub\\Pharmacometrics\\env\\Lib\\site-packages\\plotly\\basedatatypes.py:3410\u001b[0m, in \u001b[0;36mBaseFigure.show\u001b[1;34m(self, *args, **kwargs)\u001b[0m\n\u001b[0;32m   3377\u001b[0m \u001b[38;5;250m\u001b[39m\u001b[38;5;124;03m\"\"\"\u001b[39;00m\n\u001b[0;32m   3378\u001b[0m \u001b[38;5;124;03mShow a figure using either the default renderer(s) or the renderer(s)\u001b[39;00m\n\u001b[0;32m   3379\u001b[0m \u001b[38;5;124;03mspecified by the renderer argument\u001b[39;00m\n\u001b[1;32m   (...)\u001b[0m\n\u001b[0;32m   3406\u001b[0m \u001b[38;5;124;03mNone\u001b[39;00m\n\u001b[0;32m   3407\u001b[0m \u001b[38;5;124;03m\"\"\"\u001b[39;00m\n\u001b[0;32m   3408\u001b[0m \u001b[38;5;28;01mimport\u001b[39;00m\u001b[38;5;250m \u001b[39m\u001b[38;5;21;01mplotly\u001b[39;00m\u001b[38;5;21;01m.\u001b[39;00m\u001b[38;5;21;01mio\u001b[39;00m\u001b[38;5;250m \u001b[39m\u001b[38;5;28;01mas\u001b[39;00m\u001b[38;5;250m \u001b[39m\u001b[38;5;21;01mpio\u001b[39;00m\n\u001b[1;32m-> 3410\u001b[0m \u001b[38;5;28;01mreturn\u001b[39;00m \u001b[43mpio\u001b[49m\u001b[38;5;241;43m.\u001b[39;49m\u001b[43mshow\u001b[49m\u001b[43m(\u001b[49m\u001b[38;5;28;43mself\u001b[39;49m\u001b[43m,\u001b[49m\u001b[43m \u001b[49m\u001b[38;5;241;43m*\u001b[39;49m\u001b[43margs\u001b[49m\u001b[43m,\u001b[49m\u001b[43m \u001b[49m\u001b[38;5;241;43m*\u001b[39;49m\u001b[38;5;241;43m*\u001b[39;49m\u001b[43mkwargs\u001b[49m\u001b[43m)\u001b[49m\n",
      "File \u001b[1;32mc:\\Users\\gustavo.filho\\Documents\\Python\\GitHub\\Pharmacometrics\\env\\Lib\\site-packages\\plotly\\io\\_renderers.py:386\u001b[0m, in \u001b[0;36mshow\u001b[1;34m(fig, renderer, validate, **kwargs)\u001b[0m\n\u001b[0;32m    383\u001b[0m fig_dict \u001b[38;5;241m=\u001b[39m validate_coerce_fig_to_dict(fig, validate)\n\u001b[0;32m    385\u001b[0m \u001b[38;5;66;03m# Mimetype renderers\u001b[39;00m\n\u001b[1;32m--> 386\u001b[0m bundle \u001b[38;5;241m=\u001b[39m \u001b[43mrenderers\u001b[49m\u001b[38;5;241;43m.\u001b[39;49m\u001b[43m_build_mime_bundle\u001b[49m\u001b[43m(\u001b[49m\u001b[43mfig_dict\u001b[49m\u001b[43m,\u001b[49m\u001b[43m \u001b[49m\u001b[43mrenderers_string\u001b[49m\u001b[38;5;241;43m=\u001b[39;49m\u001b[43mrenderer\u001b[49m\u001b[43m,\u001b[49m\u001b[43m \u001b[49m\u001b[38;5;241;43m*\u001b[39;49m\u001b[38;5;241;43m*\u001b[39;49m\u001b[43mkwargs\u001b[49m\u001b[43m)\u001b[49m\n\u001b[0;32m    387\u001b[0m \u001b[38;5;28;01mif\u001b[39;00m bundle:\n\u001b[0;32m    388\u001b[0m     \u001b[38;5;28;01mif\u001b[39;00m \u001b[38;5;129;01mnot\u001b[39;00m ipython_display:\n",
      "File \u001b[1;32mc:\\Users\\gustavo.filho\\Documents\\Python\\GitHub\\Pharmacometrics\\env\\Lib\\site-packages\\plotly\\io\\_renderers.py:294\u001b[0m, in \u001b[0;36mRenderersConfig._build_mime_bundle\u001b[1;34m(self, fig_dict, renderers_string, **kwargs)\u001b[0m\n\u001b[0;32m    291\u001b[0m             \u001b[38;5;28;01mif\u001b[39;00m \u001b[38;5;28mhasattr\u001b[39m(renderer, k):\n\u001b[0;32m    292\u001b[0m                 \u001b[38;5;28msetattr\u001b[39m(renderer, k, v)\n\u001b[1;32m--> 294\u001b[0m         bundle\u001b[38;5;241m.\u001b[39mupdate(\u001b[43mrenderer\u001b[49m\u001b[38;5;241;43m.\u001b[39;49m\u001b[43mto_mimebundle\u001b[49m\u001b[43m(\u001b[49m\u001b[43mfig_dict\u001b[49m\u001b[43m)\u001b[49m)\n\u001b[0;32m    296\u001b[0m \u001b[38;5;28;01mreturn\u001b[39;00m bundle\n",
      "File \u001b[1;32mc:\\Users\\gustavo.filho\\Documents\\Python\\GitHub\\Pharmacometrics\\env\\Lib\\site-packages\\plotly\\io\\_base_renderers.py:126\u001b[0m, in \u001b[0;36mImageRenderer.to_mimebundle\u001b[1;34m(self, fig_dict)\u001b[0m\n\u001b[0;32m    125\u001b[0m \u001b[38;5;28;01mdef\u001b[39;00m\u001b[38;5;250m \u001b[39m\u001b[38;5;21mto_mimebundle\u001b[39m(\u001b[38;5;28mself\u001b[39m, fig_dict):\n\u001b[1;32m--> 126\u001b[0m     image_bytes \u001b[38;5;241m=\u001b[39m \u001b[43mto_image\u001b[49m\u001b[43m(\u001b[49m\n\u001b[0;32m    127\u001b[0m \u001b[43m        \u001b[49m\u001b[43mfig_dict\u001b[49m\u001b[43m,\u001b[49m\n\u001b[0;32m    128\u001b[0m \u001b[43m        \u001b[49m\u001b[38;5;28;43mformat\u001b[39;49m\u001b[38;5;241;43m=\u001b[39;49m\u001b[38;5;28;43mself\u001b[39;49m\u001b[38;5;241;43m.\u001b[39;49m\u001b[43mformat\u001b[49m\u001b[43m,\u001b[49m\n\u001b[0;32m    129\u001b[0m \u001b[43m        \u001b[49m\u001b[43mwidth\u001b[49m\u001b[38;5;241;43m=\u001b[39;49m\u001b[38;5;28;43mself\u001b[39;49m\u001b[38;5;241;43m.\u001b[39;49m\u001b[43mwidth\u001b[49m\u001b[43m,\u001b[49m\n\u001b[0;32m    130\u001b[0m \u001b[43m        \u001b[49m\u001b[43mheight\u001b[49m\u001b[38;5;241;43m=\u001b[39;49m\u001b[38;5;28;43mself\u001b[39;49m\u001b[38;5;241;43m.\u001b[39;49m\u001b[43mheight\u001b[49m\u001b[43m,\u001b[49m\n\u001b[0;32m    131\u001b[0m \u001b[43m        \u001b[49m\u001b[43mscale\u001b[49m\u001b[38;5;241;43m=\u001b[39;49m\u001b[38;5;28;43mself\u001b[39;49m\u001b[38;5;241;43m.\u001b[39;49m\u001b[43mscale\u001b[49m\u001b[43m,\u001b[49m\n\u001b[0;32m    132\u001b[0m \u001b[43m        \u001b[49m\u001b[43mvalidate\u001b[49m\u001b[38;5;241;43m=\u001b[39;49m\u001b[38;5;28;43;01mFalse\u001b[39;49;00m\u001b[43m,\u001b[49m\n\u001b[0;32m    133\u001b[0m \u001b[43m        \u001b[49m\u001b[43mengine\u001b[49m\u001b[38;5;241;43m=\u001b[39;49m\u001b[38;5;28;43mself\u001b[39;49m\u001b[38;5;241;43m.\u001b[39;49m\u001b[43mengine\u001b[49m\u001b[43m,\u001b[49m\n\u001b[0;32m    134\u001b[0m \u001b[43m    \u001b[49m\u001b[43m)\u001b[49m\n\u001b[0;32m    136\u001b[0m     \u001b[38;5;28;01mif\u001b[39;00m \u001b[38;5;28mself\u001b[39m\u001b[38;5;241m.\u001b[39mb64_encode:\n\u001b[0;32m    137\u001b[0m         image_str \u001b[38;5;241m=\u001b[39m base64\u001b[38;5;241m.\u001b[39mb64encode(image_bytes)\u001b[38;5;241m.\u001b[39mdecode(\u001b[38;5;124m\"\u001b[39m\u001b[38;5;124mutf8\u001b[39m\u001b[38;5;124m\"\u001b[39m)\n",
      "File \u001b[1;32mc:\\Users\\gustavo.filho\\Documents\\Python\\GitHub\\Pharmacometrics\\env\\Lib\\site-packages\\plotly\\io\\_kaleido.py:132\u001b[0m, in \u001b[0;36mto_image\u001b[1;34m(fig, format, width, height, scale, validate, engine)\u001b[0m\n\u001b[0;32m    130\u001b[0m     \u001b[38;5;66;03m# Raise informative error message if Kaleido is not installed\u001b[39;00m\n\u001b[0;32m    131\u001b[0m     \u001b[38;5;28;01mif\u001b[39;00m scope \u001b[38;5;129;01mis\u001b[39;00m \u001b[38;5;28;01mNone\u001b[39;00m:\n\u001b[1;32m--> 132\u001b[0m         \u001b[38;5;28;01mraise\u001b[39;00m \u001b[38;5;167;01mValueError\u001b[39;00m(\n\u001b[0;32m    133\u001b[0m \u001b[38;5;250m            \u001b[39m\u001b[38;5;124;03m\"\"\"\u001b[39;00m\n\u001b[0;32m    134\u001b[0m \u001b[38;5;124;03mImage export using the \"kaleido\" engine requires the kaleido package,\u001b[39;00m\n\u001b[0;32m    135\u001b[0m \u001b[38;5;124;03mwhich can be installed using pip:\u001b[39;00m\n\u001b[0;32m    136\u001b[0m \u001b[38;5;124;03m    $ pip install -U kaleido\u001b[39;00m\n\u001b[0;32m    137\u001b[0m \u001b[38;5;124;03m\"\"\"\u001b[39;00m\n\u001b[0;32m    138\u001b[0m         )\n\u001b[0;32m    140\u001b[0m     \u001b[38;5;66;03m# Validate figure\u001b[39;00m\n\u001b[0;32m    141\u001b[0m     \u001b[38;5;66;03m# ---------------\u001b[39;00m\n\u001b[0;32m    142\u001b[0m     fig_dict \u001b[38;5;241m=\u001b[39m validate_coerce_fig_to_dict(fig, validate)\n",
      "\u001b[1;31mValueError\u001b[0m: \nImage export using the \"kaleido\" engine requires the kaleido package,\nwhich can be installed using pip:\n    $ pip install -U kaleido\n"
     ]
    }
   ],
   "source": [
    "fig = go.Figure()\n",
    "\n",
    "C_0 = 10\n",
    "k = np.log(2)/6\n",
    "t = np.linspace(0,48,9)\n",
    "C = C_0*np.exp(-k*t)\n",
    "\n",
    "fig.add_trace(trace=go.Scatter(x=np.linspace(0,48,100), y=C_0*np.exp(-k*np.linspace(0,48,100)), mode='lines', line=dict(color='rgba(164,31,54,1)'), showlegend=False))\n",
    "fig.add_trace(trace=go.Scatter(x=t, y=C, mode='markers', marker=dict(color='rgba(164,31,54,1)', size=10), showlegend=False))\n",
    "fig.add_trace(trace=go.Scatter(x=[0,12], y=[10,2.5], mode='markers', marker=dict(color='black', size=10), showlegend=False))\n",
    "\n",
    "Module_.main_layout(\n",
    "    fig, title='Plasma Concentration for 10 mg i.v. in Bolus', height=500, width=600,\n",
    "    x='time [h]', y='Concentration [mg/L]', x_range=[0,49]\n",
    ").show()\n",
    "\n",
    "# ============================================================================\n",
    "\n",
    "fig = go.Figure()\n",
    "\n",
    "A_inf = 60\n",
    "k = np.log(2)/6\n",
    "t = np.linspace(0,48,9)\n",
    "A = A_inf*(1-np.exp(-k*t))\n",
    "\n",
    "fig.add_trace(trace=go.Scatter(x=np.linspace(0,48,100), y=A_inf*(1-np.exp(-k*np.linspace(0,48,100))), mode='lines', line=dict(color='rgba(164,31,54,1)'), showlegend=False))\n",
    "fig.add_trace(trace=go.Scatter(x=t, y=A, mode='markers', marker=dict(color='rgba(164,31,54,1)', size=10), showlegend=False))\n",
    "fig.add_trace(trace=go.Scatter(x=[0,48], y=[0,60], mode='markers', marker=dict(color='black', size=10), showlegend=False))\n",
    "\n",
    "Module_.main_layout(\n",
    "    fig, title='Urine Concentration for 10 mg i.v. in Bolus', height=500, width=600,\n",
    "    x='time [h]', y='Amount [mg]', x_range=[0,49]\n",
    ")"
   ]
  },
  {
   "cell_type": "markdown",
   "metadata": {},
   "source": [
    "## **Exercise 6**\n",
    "From 0 to 3 hr after a 50-mg i.v. bolus dose of drug, the AUC is 5.1 mg-hr/L. The total AUC is 22.4 mg-hr/L, and the cumulative amount excreted unchanged, Ae∞, is 11 mg.<br>\n",
    "**(a)** Determine the amount of drug remaining in the body at 3 hr as a percentage of the administered dose.<br>\n",
    "**(b)** Calculate total clearance.<br>\n",
    "**(c)** Calculate the renal clearance of the drug.<br>\n",
    "**(d)** What is the fraction of the dose that is eliminated by renal excretion?"
   ]
  },
  {
   "cell_type": "code",
   "execution_count": 6,
   "metadata": {},
   "outputs": [
    {
     "data": {
      "text/latex": [
       "$\\displaystyle \\text{Fraction Eliminated} = \\frac{\\text{AUC}_{(0-3)}}{\\text{AUC}_{(0-\\infty)}}$"
      ],
      "text/plain": [
       "<IPython.core.display.Math object>"
      ]
     },
     "metadata": {},
     "output_type": "display_data"
    },
    {
     "name": "stdout",
     "output_type": "stream",
     "text": [
      "(a)\n",
      "Fraction Eliminated = 22.77%\n",
      "Fraction Remaining = 77.23%\n",
      "\n"
     ]
    },
    {
     "data": {
      "text/latex": [
       "$\\displaystyle \\text{Dose} = \\text{CL} \\cdot \\text{AUC}$"
      ],
      "text/plain": [
       "<IPython.core.display.Math object>"
      ]
     },
     "metadata": {},
     "output_type": "display_data"
    },
    {
     "name": "stdout",
     "output_type": "stream",
     "text": [
      "(b)\n",
      "CL = 2.23 L/hr\n",
      "\n"
     ]
    },
    {
     "data": {
      "text/latex": [
       "$\\displaystyle \\text{CL}_\\text{R} = \\frac{\\text{A}_e\\infty}{\\text{AUC}}$"
      ],
      "text/plain": [
       "<IPython.core.display.Math object>"
      ]
     },
     "metadata": {},
     "output_type": "display_data"
    },
    {
     "name": "stdout",
     "output_type": "stream",
     "text": [
      "(c)\n",
      "CL (renal) = 0.49 L/hr\n",
      "\n"
     ]
    },
    {
     "data": {
      "text/latex": [
       "$\\displaystyle fe = \\frac{\\text{A}_e\\infty}{\\text{Dose}}$"
      ],
      "text/plain": [
       "<IPython.core.display.Math object>"
      ]
     },
     "metadata": {},
     "output_type": "display_data"
    },
    {
     "name": "stdout",
     "output_type": "stream",
     "text": [
      "(d)\n",
      "fe = 22.00%\n",
      "\n"
     ]
    }
   ],
   "source": [
    "display(Math(r'\\text{Fraction Eliminated} = \\frac{\\text{AUC}_{(0-3)}}{\\text{AUC}_{(0-\\infty)}}'))\n",
    "AUC_0_3 = 5.1\n",
    "AUC_total = 22.4\n",
    "fraction_eliminated = AUC_0_3/AUC_total\n",
    "fraction_remaining = 1-fraction_eliminated\n",
    "print(f'''(a)\n",
    "Fraction Eliminated = {100*fraction_eliminated :.2f}%\n",
    "Fraction Remaining = {100*fraction_remaining :.2f}%\n",
    "''')\n",
    "\n",
    "display(Math(r'\\text{Dose} = \\text{CL} \\cdot \\text{AUC}'))\n",
    "dose = 50\n",
    "CL = dose/AUC_total\n",
    "print(f'''(b)\n",
    "CL = {CL :.2f} L/hr\n",
    "''')\n",
    "\n",
    "display(Math(r'\\text{CL}_\\text{R} = \\frac{\\text{A}_e\\infty}{\\text{AUC}}'))\n",
    "Ae_inf = 11\n",
    "CL_renal = Ae_inf/AUC_total\n",
    "print(f'''(c)\n",
    "CL (renal) = {CL_renal :.2f} L/hr\n",
    "''')\n",
    "\n",
    "display(Math(r'fe = \\frac{\\text{A}_e\\infty}{\\text{Dose}}'))\n",
    "fe = Ae_inf/dose\n",
    "print(f'''(d)\n",
    "fe = {100*fe :.2f}%\n",
    "''')"
   ]
  },
  {
   "cell_type": "markdown",
   "metadata": {},
   "source": [
    "## **Exercise 7**\n",
    "When 100 mg of a drug was given as an i.v. bolus, the following plasma concentration–time relationship (C in mg/L and t in hours) was observed $\\text{C}=7.14\\cdot 10^{-0.051\\text{t}}$ . Calculate the following:<br>\n",
    "**(a)** Volume of distribution<br>\n",
    "**(b)** Elimination half-life<br>\n",
    "**(c)** Total AUC<br>\n",
    "**(d)** Total clearance<br>\n",
    "**(e)** The plasma concentration 70 min after a 250-mg i.v. bolus dose"
   ]
  },
  {
   "cell_type": "code",
   "execution_count": 7,
   "metadata": {},
   "outputs": [
    {
     "data": {
      "text/latex": [
       "$\\displaystyle \\text{C} = \\frac{\\text{A}}{\\text{V}}$"
      ],
      "text/plain": [
       "<IPython.core.display.Math object>"
      ]
     },
     "metadata": {},
     "output_type": "display_data"
    },
    {
     "name": "stdout",
     "output_type": "stream",
     "text": [
      "(a)\n",
      "V = 14.01 L\n",
      "\n"
     ]
    },
    {
     "data": {
      "text/latex": [
       "$\\displaystyle \\text{t}_{1/2} = \\frac{\\ln 2}{\\text{k}}$"
      ],
      "text/plain": [
       "<IPython.core.display.Math object>"
      ]
     },
     "metadata": {},
     "output_type": "display_data"
    },
    {
     "name": "stdout",
     "output_type": "stream",
     "text": [
      "(b)\n",
      "t(1/2) = 6.00 hr\n",
      "\n"
     ]
    },
    {
     "data": {
      "text/latex": [
       "$\\displaystyle \\text{AUC} = \\frac{\\text{Dose}}{\\text{CL}}$"
      ],
      "text/plain": [
       "<IPython.core.display.Math object>"
      ]
     },
     "metadata": {},
     "output_type": "display_data"
    },
    {
     "name": "stdout",
     "output_type": "stream",
     "text": [
      "(c & d)\n",
      "CL = 1.62 L/hr\n",
      "AUC = 61.69 mg-L/hr\n",
      "\n"
     ]
    },
    {
     "data": {
      "text/latex": [
       "$\\displaystyle \\text{C} = \\frac{\\text{Dose}}{\\text{V}}\\cdot e^{-\\text{kt}}$"
      ],
      "text/plain": [
       "<IPython.core.display.Math object>"
      ]
     },
     "metadata": {},
     "output_type": "display_data"
    },
    {
     "name": "stdout",
     "output_type": "stream",
     "text": [
      "(e)\n",
      "Dose = 250.00 mg/L\n",
      "C(70 min) = 16.82 mg/L\n",
      "\n"
     ]
    }
   ],
   "source": [
    "display(Math(r'\\text{C} = \\frac{\\text{A}}{\\text{V}}'))\n",
    "dose = 100\n",
    "C_0 = 7.14\n",
    "V = dose/C_0\n",
    "print(f'''(a)\n",
    "V = {V :.2f} L\n",
    "''')\n",
    "\n",
    "display(Math(r'\\text{t}_{1/2} = \\frac{\\ln 2}{\\text{k}}'))\n",
    "half_life = np.log(2)/k\n",
    "print(f'''(b)\n",
    "t(1/2) = {half_life :.2f} hr\n",
    "''')\n",
    "\n",
    "display(Math(r'\\text{AUC} = \\frac{\\text{Dose}}{\\text{CL}}'))\n",
    "k = 0.051\n",
    "CL = V/(1.44*half_life)\n",
    "AUC_total = dose/CL\n",
    "print(f'''(c & d)\n",
    "CL = {CL :.2f} L/hr\n",
    "AUC = {AUC_total :.2f} mg-L/hr\n",
    "''')\n",
    "\n",
    "display(Math(r'\\text{C} = \\frac{\\text{Dose}}{\\text{V}}\\cdot e^{-\\text{kt}}'))\n",
    "C_70min = (250/V)*np.exp(-k*(70/60))\n",
    "print(f'''(e)\n",
    "Dose = {250 :.2f} mg/L\n",
    "C(70 min) = {C_70min :.2f} mg/L\n",
    "''')"
   ]
  },
  {
   "cell_type": "markdown",
   "metadata": {},
   "source": [
    "## **Exercise 8**\n",
    "A 10-mg dose of diazepam is injected intravenously into a patient with status epilepticus. The half-life and volume of distribution of the drug are 48 hr and 80 L, respectively, in the patient. Calculate your expectation for each of the following:<br>\n",
    "**(a)** The elimination rate constant<br>\n",
    "**(b)** The plasma diazepam concentration 12 hr after giving the dose<br>\n",
    "**(c)** The fraction of the dose remaining in the body 48 hr after the dose is given<br>\n",
    "**(d)** The clearance of diazepam<br>\n",
    "**(e)** The initial rate of elimination when the entire dose is in the body<br>\n",
    "**(f)** The AUC<br>\n",
    "**(g)** The amount of drug in the body 1 week after giving the dose"
   ]
  },
  {
   "cell_type": "code",
   "execution_count": 8,
   "metadata": {},
   "outputs": [
    {
     "data": {
      "text/latex": [
       "$\\displaystyle \\text{t}_{1/2} = \\frac{0.693}{\\text{k}}$"
      ],
      "text/plain": [
       "<IPython.core.display.Math object>"
      ]
     },
     "metadata": {},
     "output_type": "display_data"
    },
    {
     "name": "stdout",
     "output_type": "stream",
     "text": [
      "(a)\n",
      "k = 0.0144 /hr\n",
      "\n"
     ]
    },
    {
     "data": {
      "text/latex": [
       "$\\displaystyle \\text{C} = \\text{C}(0) \\cdot e^{-\\text{k} \\cdot \\text{t}}$"
      ],
      "text/plain": [
       "<IPython.core.display.Math object>"
      ]
     },
     "metadata": {},
     "output_type": "display_data"
    },
    {
     "name": "stdout",
     "output_type": "stream",
     "text": [
      "(b)\n",
      "C(12 hr) = 0.11 mg/L\n",
      "\n",
      "(c)\n",
      "Fraction Remaining = 50.00%\n",
      "\n"
     ]
    },
    {
     "data": {
      "text/latex": [
       "$\\displaystyle \\text{V} = 1.44 \\cdot \\text{CL} \\cdot \\text{t}_{1/2}$"
      ],
      "text/plain": [
       "<IPython.core.display.Math object>"
      ]
     },
     "metadata": {},
     "output_type": "display_data"
    },
    {
     "name": "stdout",
     "output_type": "stream",
     "text": [
      "(d)\n",
      "CL = 1.16 L/hr\n",
      "\n"
     ]
    },
    {
     "data": {
      "text/latex": [
       "$\\displaystyle \\text{Rate of elimination} = \\text{CL} \\cdot \\text{C}$"
      ],
      "text/plain": [
       "<IPython.core.display.Math object>"
      ]
     },
     "metadata": {},
     "output_type": "display_data"
    },
    {
     "name": "stdout",
     "output_type": "stream",
     "text": [
      "(e)\n",
      "Initial Rate of Elimination = 0.145 mg/L\n",
      "\n"
     ]
    },
    {
     "data": {
      "text/latex": [
       "$\\displaystyle \\text{Dose} = \\text{CL} \\cdot \\text{AUC}$"
      ],
      "text/plain": [
       "<IPython.core.display.Math object>"
      ]
     },
     "metadata": {},
     "output_type": "display_data"
    },
    {
     "name": "stdout",
     "output_type": "stream",
     "text": [
      "(f)\n",
      "AUC = 8.64 mg-hr/L\n",
      "\n"
     ]
    },
    {
     "data": {
      "text/latex": [
       "$\\displaystyle \\text{A}_e = \\text{A}_e\\infty \\cdot e^{-\\text{k} \\cdot \\text{t}}$"
      ],
      "text/plain": [
       "<IPython.core.display.Math object>"
      ]
     },
     "metadata": {},
     "output_type": "display_data"
    },
    {
     "name": "stdout",
     "output_type": "stream",
     "text": [
      "(g)\n",
      "A(1 week) = 0.88 mg\n",
      "\n"
     ]
    }
   ],
   "source": [
    "display(Math(r'\\text{t}_{1/2} = \\frac{0.693}{\\text{k}}'))\n",
    "dose = 10\n",
    "half_life = 48\n",
    "V = 80\n",
    "k = np.log(2)/half_life\n",
    "print(f'''(a)\n",
    "k = {k :.4f} /hr\n",
    "''')\n",
    "\n",
    "display(Math(r'\\text{C} = \\text{C}(0) \\cdot e^{-\\text{k} \\cdot \\text{t}}'))\n",
    "C_0 = dose/V\n",
    "C_12 = C_0*np.exp(-k*12)\n",
    "print(f'''(b)\n",
    "C(12 hr) = {C_12 :.2f} mg/L\n",
    "''')\n",
    "\n",
    "print(f'''(c)\n",
    "Fraction Remaining = {50 :.2f}%\n",
    "''')\n",
    "\n",
    "display(Math(r'\\text{V} = 1.44 \\cdot \\text{CL} \\cdot \\text{t}_{1/2}'))\n",
    "CL = V/(1.44*half_life)\n",
    "print(f'''(d)\n",
    "CL = {CL :.2f} L/hr\n",
    "''')\n",
    "\n",
    "display(Math(r'\\text{Rate of elimination} = \\text{CL} \\cdot \\text{C}'))\n",
    "rate_elimination = CL*C_0\n",
    "print(f'''(e)\n",
    "Initial Rate of Elimination = {rate_elimination :.3f} mg/L\n",
    "''')\n",
    "\n",
    "display(Math(r'\\text{Dose} = \\text{CL} \\cdot \\text{AUC}'))\n",
    "AUC_total = dose/CL\n",
    "print(f'''(f)\n",
    "AUC = {AUC_total :.2f} mg-hr/L\n",
    "''')\n",
    "\n",
    "display(Math(r'\\text{A}_e = \\text{A}_e\\infty \\cdot e^{-\\text{k} \\cdot \\text{t}}'))\n",
    "t_week = 24*7\n",
    "A_one_week = dose*np.exp(-k*t_week)\n",
    "print(f'''(g)\n",
    "A(1 week) = {A_one_week :.2f} mg\n",
    "''')\n"
   ]
  },
  {
   "cell_type": "markdown",
   "metadata": {},
   "source": [
    "## **Exercise 9**\n",
    "The data given in Table 3-3 are the plasma concentrations of cocaine as a function of time after i.v. administration of 33 mg cocaine hydrochloride to a subject (molecular weight of cocaine hydrochloride = 340 g/mol; molecular weight of cocaine = 303 g/mol).<br>\n",
    "\n",
    "_Plasma Concentrations of Cocaine with Time after a Single Intravenous Dose of 33-mg Cocaine Hydrochloride_<br>\n",
    "| Time (hr)         | 0.16 | 0.5  | 1.0  | 1.5  | 2.0  | 2.5  | 3.0  |\n",
    "|--------------------|------|------|------|------|------|------|------|\n",
    "| Concentration (µg/L) | 170  | 122  | 74   | 45   | 28   | 17   | 10   |\n",
    "\n",
    "**(a)** Prepare a semilogarithmic plot of plasma concentration versus time using Excel or some other software program.<br>\n",
    "**(b)** Estimate the half-life.<br>\n",
    "**(c)** Estimate the total AUC of cocaine by integration of the exponential equation and by use of the trapezoidal rule. Comment on any differences between these two estimates.<br>\n",
    "**(d)** Calculate the clearance of cocaine.<br>\n",
    "**(e)** Given that the body weight of the subject is 75 kg, calculate the volume of distribution of cocaine in L/kg."
   ]
  },
  {
   "cell_type": "code",
   "execution_count": 80,
   "metadata": {},
   "outputs": [
    {
     "data": {
      "text/html": [
       "<div>                            <div id=\"5ba8fb9a-2129-40d2-ab1b-3d3dc5673a92\" class=\"plotly-graph-div\" style=\"height:500px; width:600px;\"></div>            <script type=\"text/javascript\">                require([\"plotly\"], function(Plotly) {                    window.PLOTLYENV=window.PLOTLYENV || {};                                    if (document.getElementById(\"5ba8fb9a-2129-40d2-ab1b-3d3dc5673a92\")) {                    Plotly.newPlot(                        \"5ba8fb9a-2129-40d2-ab1b-3d3dc5673a92\",                        [{\"line\":{\"color\":\"black\"},\"mode\":\"lines\",\"showlegend\":false,\"x\":[0.16,0.5,1.0,1.5,2.0,2.5,3.0],\"y\":[170,122,74,45,28,17,10],\"type\":\"scatter\",\"hovertemplate\":\"x: %{x}\\u003cbr\\u003ey: %{y}\"},{\"marker\":{\"color\":\"rgba(164,31,54,1)\",\"size\":10},\"mode\":\"markers\",\"showlegend\":false,\"x\":[0.16,0.5,1.0,1.5,2.0,2.5,3.0],\"y\":[170,122,74,45,28,17,10],\"type\":\"scatter\",\"hovertemplate\":\"x: %{x}\\u003cbr\\u003ey: %{y}\"}],                        {\"height\":500,\"paper_bgcolor\":\"white\",\"plot_bgcolor\":\"white\",\"title\":{\"text\":\"Plasma Concentrations of Cocaine after a i.v. Dose of Co.Hyd.\"},\"width\":600,\"xaxis\":{\"gridcolor\":\"#cccccc\",\"linecolor\":\"black\",\"range\":[0,3.05],\"title\":{\"text\":\"time [h]\"}},\"yaxis\":{\"gridcolor\":\"#cccccc\",\"linecolor\":\"black\",\"title\":{\"text\":\"Plasma Concentration [mg\\u002fL]\"},\"type\":\"log\"},\"template\":{\"data\":{\"histogram2dcontour\":[{\"type\":\"histogram2dcontour\",\"colorbar\":{\"outlinewidth\":0,\"ticks\":\"\"},\"colorscale\":[[0.0,\"#0d0887\"],[0.1111111111111111,\"#46039f\"],[0.2222222222222222,\"#7201a8\"],[0.3333333333333333,\"#9c179e\"],[0.4444444444444444,\"#bd3786\"],[0.5555555555555556,\"#d8576b\"],[0.6666666666666666,\"#ed7953\"],[0.7777777777777778,\"#fb9f3a\"],[0.8888888888888888,\"#fdca26\"],[1.0,\"#f0f921\"]]}],\"choropleth\":[{\"type\":\"choropleth\",\"colorbar\":{\"outlinewidth\":0,\"ticks\":\"\"}}],\"histogram2d\":[{\"type\":\"histogram2d\",\"colorbar\":{\"outlinewidth\":0,\"ticks\":\"\"},\"colorscale\":[[0.0,\"#0d0887\"],[0.1111111111111111,\"#46039f\"],[0.2222222222222222,\"#7201a8\"],[0.3333333333333333,\"#9c179e\"],[0.4444444444444444,\"#bd3786\"],[0.5555555555555556,\"#d8576b\"],[0.6666666666666666,\"#ed7953\"],[0.7777777777777778,\"#fb9f3a\"],[0.8888888888888888,\"#fdca26\"],[1.0,\"#f0f921\"]]}],\"heatmap\":[{\"type\":\"heatmap\",\"colorbar\":{\"outlinewidth\":0,\"ticks\":\"\"},\"colorscale\":[[0.0,\"#0d0887\"],[0.1111111111111111,\"#46039f\"],[0.2222222222222222,\"#7201a8\"],[0.3333333333333333,\"#9c179e\"],[0.4444444444444444,\"#bd3786\"],[0.5555555555555556,\"#d8576b\"],[0.6666666666666666,\"#ed7953\"],[0.7777777777777778,\"#fb9f3a\"],[0.8888888888888888,\"#fdca26\"],[1.0,\"#f0f921\"]]}],\"heatmapgl\":[{\"type\":\"heatmapgl\",\"colorbar\":{\"outlinewidth\":0,\"ticks\":\"\"},\"colorscale\":[[0.0,\"#0d0887\"],[0.1111111111111111,\"#46039f\"],[0.2222222222222222,\"#7201a8\"],[0.3333333333333333,\"#9c179e\"],[0.4444444444444444,\"#bd3786\"],[0.5555555555555556,\"#d8576b\"],[0.6666666666666666,\"#ed7953\"],[0.7777777777777778,\"#fb9f3a\"],[0.8888888888888888,\"#fdca26\"],[1.0,\"#f0f921\"]]}],\"contourcarpet\":[{\"type\":\"contourcarpet\",\"colorbar\":{\"outlinewidth\":0,\"ticks\":\"\"}}],\"contour\":[{\"type\":\"contour\",\"colorbar\":{\"outlinewidth\":0,\"ticks\":\"\"},\"colorscale\":[[0.0,\"#0d0887\"],[0.1111111111111111,\"#46039f\"],[0.2222222222222222,\"#7201a8\"],[0.3333333333333333,\"#9c179e\"],[0.4444444444444444,\"#bd3786\"],[0.5555555555555556,\"#d8576b\"],[0.6666666666666666,\"#ed7953\"],[0.7777777777777778,\"#fb9f3a\"],[0.8888888888888888,\"#fdca26\"],[1.0,\"#f0f921\"]]}],\"surface\":[{\"type\":\"surface\",\"colorbar\":{\"outlinewidth\":0,\"ticks\":\"\"},\"colorscale\":[[0.0,\"#0d0887\"],[0.1111111111111111,\"#46039f\"],[0.2222222222222222,\"#7201a8\"],[0.3333333333333333,\"#9c179e\"],[0.4444444444444444,\"#bd3786\"],[0.5555555555555556,\"#d8576b\"],[0.6666666666666666,\"#ed7953\"],[0.7777777777777778,\"#fb9f3a\"],[0.8888888888888888,\"#fdca26\"],[1.0,\"#f0f921\"]]}],\"mesh3d\":[{\"type\":\"mesh3d\",\"colorbar\":{\"outlinewidth\":0,\"ticks\":\"\"}}],\"scatter\":[{\"fillpattern\":{\"fillmode\":\"overlay\",\"size\":10,\"solidity\":0.2},\"type\":\"scatter\"}],\"parcoords\":[{\"type\":\"parcoords\",\"line\":{\"colorbar\":{\"outlinewidth\":0,\"ticks\":\"\"}}}],\"scatterpolargl\":[{\"type\":\"scatterpolargl\",\"marker\":{\"colorbar\":{\"outlinewidth\":0,\"ticks\":\"\"}}}],\"bar\":[{\"error_x\":{\"color\":\"#2a3f5f\"},\"error_y\":{\"color\":\"#2a3f5f\"},\"marker\":{\"line\":{\"color\":\"#E5ECF6\",\"width\":0.5},\"pattern\":{\"fillmode\":\"overlay\",\"size\":10,\"solidity\":0.2}},\"type\":\"bar\"}],\"scattergeo\":[{\"type\":\"scattergeo\",\"marker\":{\"colorbar\":{\"outlinewidth\":0,\"ticks\":\"\"}}}],\"scatterpolar\":[{\"type\":\"scatterpolar\",\"marker\":{\"colorbar\":{\"outlinewidth\":0,\"ticks\":\"\"}}}],\"histogram\":[{\"marker\":{\"pattern\":{\"fillmode\":\"overlay\",\"size\":10,\"solidity\":0.2}},\"type\":\"histogram\"}],\"scattergl\":[{\"type\":\"scattergl\",\"marker\":{\"colorbar\":{\"outlinewidth\":0,\"ticks\":\"\"}}}],\"scatter3d\":[{\"type\":\"scatter3d\",\"line\":{\"colorbar\":{\"outlinewidth\":0,\"ticks\":\"\"}},\"marker\":{\"colorbar\":{\"outlinewidth\":0,\"ticks\":\"\"}}}],\"scattermapbox\":[{\"type\":\"scattermapbox\",\"marker\":{\"colorbar\":{\"outlinewidth\":0,\"ticks\":\"\"}}}],\"scatterternary\":[{\"type\":\"scatterternary\",\"marker\":{\"colorbar\":{\"outlinewidth\":0,\"ticks\":\"\"}}}],\"scattercarpet\":[{\"type\":\"scattercarpet\",\"marker\":{\"colorbar\":{\"outlinewidth\":0,\"ticks\":\"\"}}}],\"carpet\":[{\"aaxis\":{\"endlinecolor\":\"#2a3f5f\",\"gridcolor\":\"white\",\"linecolor\":\"white\",\"minorgridcolor\":\"white\",\"startlinecolor\":\"#2a3f5f\"},\"baxis\":{\"endlinecolor\":\"#2a3f5f\",\"gridcolor\":\"white\",\"linecolor\":\"white\",\"minorgridcolor\":\"white\",\"startlinecolor\":\"#2a3f5f\"},\"type\":\"carpet\"}],\"table\":[{\"cells\":{\"fill\":{\"color\":\"#EBF0F8\"},\"line\":{\"color\":\"white\"}},\"header\":{\"fill\":{\"color\":\"#C8D4E3\"},\"line\":{\"color\":\"white\"}},\"type\":\"table\"}],\"barpolar\":[{\"marker\":{\"line\":{\"color\":\"#E5ECF6\",\"width\":0.5},\"pattern\":{\"fillmode\":\"overlay\",\"size\":10,\"solidity\":0.2}},\"type\":\"barpolar\"}],\"pie\":[{\"automargin\":true,\"type\":\"pie\"}]},\"layout\":{\"autotypenumbers\":\"strict\",\"colorway\":[\"#636efa\",\"#EF553B\",\"#00cc96\",\"#ab63fa\",\"#FFA15A\",\"#19d3f3\",\"#FF6692\",\"#B6E880\",\"#FF97FF\",\"#FECB52\"],\"font\":{\"color\":\"#2a3f5f\"},\"hovermode\":\"closest\",\"hoverlabel\":{\"align\":\"left\"},\"paper_bgcolor\":\"white\",\"plot_bgcolor\":\"#E5ECF6\",\"polar\":{\"bgcolor\":\"#E5ECF6\",\"angularaxis\":{\"gridcolor\":\"white\",\"linecolor\":\"white\",\"ticks\":\"\"},\"radialaxis\":{\"gridcolor\":\"white\",\"linecolor\":\"white\",\"ticks\":\"\"}},\"ternary\":{\"bgcolor\":\"#E5ECF6\",\"aaxis\":{\"gridcolor\":\"white\",\"linecolor\":\"white\",\"ticks\":\"\"},\"baxis\":{\"gridcolor\":\"white\",\"linecolor\":\"white\",\"ticks\":\"\"},\"caxis\":{\"gridcolor\":\"white\",\"linecolor\":\"white\",\"ticks\":\"\"}},\"coloraxis\":{\"colorbar\":{\"outlinewidth\":0,\"ticks\":\"\"}},\"colorscale\":{\"sequential\":[[0.0,\"#0d0887\"],[0.1111111111111111,\"#46039f\"],[0.2222222222222222,\"#7201a8\"],[0.3333333333333333,\"#9c179e\"],[0.4444444444444444,\"#bd3786\"],[0.5555555555555556,\"#d8576b\"],[0.6666666666666666,\"#ed7953\"],[0.7777777777777778,\"#fb9f3a\"],[0.8888888888888888,\"#fdca26\"],[1.0,\"#f0f921\"]],\"sequentialminus\":[[0.0,\"#0d0887\"],[0.1111111111111111,\"#46039f\"],[0.2222222222222222,\"#7201a8\"],[0.3333333333333333,\"#9c179e\"],[0.4444444444444444,\"#bd3786\"],[0.5555555555555556,\"#d8576b\"],[0.6666666666666666,\"#ed7953\"],[0.7777777777777778,\"#fb9f3a\"],[0.8888888888888888,\"#fdca26\"],[1.0,\"#f0f921\"]],\"diverging\":[[0,\"#8e0152\"],[0.1,\"#c51b7d\"],[0.2,\"#de77ae\"],[0.3,\"#f1b6da\"],[0.4,\"#fde0ef\"],[0.5,\"#f7f7f7\"],[0.6,\"#e6f5d0\"],[0.7,\"#b8e186\"],[0.8,\"#7fbc41\"],[0.9,\"#4d9221\"],[1,\"#276419\"]]},\"xaxis\":{\"gridcolor\":\"white\",\"linecolor\":\"white\",\"ticks\":\"\",\"title\":{\"standoff\":15},\"zerolinecolor\":\"white\",\"automargin\":true,\"zerolinewidth\":2},\"yaxis\":{\"gridcolor\":\"white\",\"linecolor\":\"white\",\"ticks\":\"\",\"title\":{\"standoff\":15},\"zerolinecolor\":\"white\",\"automargin\":true,\"zerolinewidth\":2},\"scene\":{\"xaxis\":{\"backgroundcolor\":\"#E5ECF6\",\"gridcolor\":\"white\",\"linecolor\":\"white\",\"showbackground\":true,\"ticks\":\"\",\"zerolinecolor\":\"white\",\"gridwidth\":2},\"yaxis\":{\"backgroundcolor\":\"#E5ECF6\",\"gridcolor\":\"white\",\"linecolor\":\"white\",\"showbackground\":true,\"ticks\":\"\",\"zerolinecolor\":\"white\",\"gridwidth\":2},\"zaxis\":{\"backgroundcolor\":\"#E5ECF6\",\"gridcolor\":\"white\",\"linecolor\":\"white\",\"showbackground\":true,\"ticks\":\"\",\"zerolinecolor\":\"white\",\"gridwidth\":2}},\"shapedefaults\":{\"line\":{\"color\":\"#2a3f5f\"}},\"annotationdefaults\":{\"arrowcolor\":\"#2a3f5f\",\"arrowhead\":0,\"arrowwidth\":1},\"geo\":{\"bgcolor\":\"white\",\"landcolor\":\"#E5ECF6\",\"subunitcolor\":\"white\",\"showland\":true,\"showlakes\":true,\"lakecolor\":\"white\"},\"title\":{\"x\":0.05},\"mapbox\":{\"style\":\"light\"}}}},                        {\"responsive\": true}                    ).then(function(){\n",
       "                            \n",
       "var gd = document.getElementById('5ba8fb9a-2129-40d2-ab1b-3d3dc5673a92');\n",
       "var x = new MutationObserver(function (mutations, observer) {{\n",
       "        var display = window.getComputedStyle(gd).display;\n",
       "        if (!display || display === 'none') {{\n",
       "            console.log([gd, 'removed!']);\n",
       "            Plotly.purge(gd);\n",
       "            observer.disconnect();\n",
       "        }}\n",
       "}});\n",
       "\n",
       "// Listen for the removal of the full notebook cells\n",
       "var notebookContainer = gd.closest('#notebook-container');\n",
       "if (notebookContainer) {{\n",
       "    x.observe(notebookContainer, {childList: true});\n",
       "}}\n",
       "\n",
       "// Listen for the clearing of the current output cell\n",
       "var outputEl = gd.closest('.output');\n",
       "if (outputEl) {{\n",
       "    x.observe(outputEl, {childList: true});\n",
       "}}\n",
       "\n",
       "                        })                };                });            </script>        </div>"
      ]
     },
     "metadata": {},
     "output_type": "display_data"
    },
    {
     "name": "stdout",
     "output_type": "stream",
     "text": [
      "(b)\n",
      "t(1/2) = 0.70 hr\n",
      "\n"
     ]
    },
    {
     "data": {
      "text/latex": [
       "$\\displaystyle \\int_0^\\infty \\text{C}_0 e^{-\\text{kt}} \\, \\text{dt} = \\left[ \\frac{\\text{C}_0}{\\text{k}} e^{-\\text{kt}} \\right]_0^\\infty$"
      ],
      "text/plain": [
       "<IPython.core.display.Math object>"
      ]
     },
     "metadata": {},
     "output_type": "display_data"
    },
    {
     "data": {
      "text/latex": [
       "$\\displaystyle \\text{C}_0 = \\text{C(t)} \\cdot e^{\\text{kt}}$"
      ],
      "text/plain": [
       "<IPython.core.display.Math object>"
      ]
     },
     "metadata": {},
     "output_type": "display_data"
    },
    {
     "name": "stdout",
     "output_type": "stream",
     "text": [
      "(c)\n",
      "C(0) = 199.18 μg/L\n",
      "AUC = 201.15 μg-hr/L\n",
      "AUC (trapeizoidal) = 164.64 μg-hr/L\n",
      "\n"
     ]
    },
    {
     "data": {
      "text/latex": [
       "$\\displaystyle \\text{Dose} = \\text{CL} \\cdot \\text{AUC}$"
      ],
      "text/plain": [
       "<IPython.core.display.Math object>"
      ]
     },
     "metadata": {},
     "output_type": "display_data"
    },
    {
     "name": "stdout",
     "output_type": "stream",
     "text": [
      "(d)\n",
      "CL = 164.05 L/hr\n",
      "\n"
     ]
    },
    {
     "data": {
      "text/latex": [
       "$\\displaystyle \\text{k} = \\frac{\\text{CL}}{\\text{V}}$"
      ],
      "text/plain": [
       "<IPython.core.display.Math object>"
      ]
     },
     "metadata": {},
     "output_type": "display_data"
    },
    {
     "name": "stdout",
     "output_type": "stream",
     "text": [
      "(e)\n",
      "V = 2.21 L/kg\n",
      "\n"
     ]
    }
   ],
   "source": [
    "cocaine = pd.DataFrame(data={\n",
    "    'time':[0.16,0.5,1,1.5,2,2.5,3],\n",
    "    'concentration':[170,122,74,45,28,17,10]\n",
    "})\n",
    "dose_co_hyd = 33\n",
    "MM_co_hyd = 340\n",
    "MM_cocaine = 303\n",
    "\n",
    "fig = go.Figure()\n",
    "fig.add_trace(trace=go.Scatter(x=cocaine.time, y=cocaine.concentration, mode='lines', line=dict(color='black'), showlegend=False))\n",
    "fig.add_trace(trace=go.Scatter(x=cocaine.time, y=cocaine.concentration, mode='markers', marker=dict(color='rgba(164,31,54,1)', size=10), showlegend=False))\n",
    "Module_.main_layout(\n",
    "    fig, title='Plasma Concentrations of Cocaine after a i.v. Dose of Co.Hyd.', height=500, width=600,\n",
    "    x='time [h]', y='Plasma Concentration [mg/L]', x_range=[0,3.05],\n",
    ")\n",
    "fig.update_layout(\n",
    "    yaxis={'type':'log'}\n",
    ").show()\n",
    "\n",
    "half_life = 0.7  # considering t=[1.5, 2] and c=[45, 28]\n",
    "print(f'''(b)\n",
    "t(1/2) = {half_life :.2f} hr\n",
    "''')\n",
    "\n",
    "# ============================ TRAPEIZOIDAL RULE ==============================\n",
    "def trapezoidal_rule(x, y):\n",
    "    n = len(x)\n",
    "    return sum((y[i] + y[i+1]) * (x[i+1] - x[i]) / 2 for i in range(n - 1))\n",
    "# =============================================================================\n",
    "\n",
    "display(Math(r'\\int_0^\\infty \\text{C}_0 e^{-\\text{kt}} \\, \\text{dt} = \\left[ \\frac{\\text{C}_0}{\\text{k}} e^{-\\text{kt}} \\right]_0^\\infty'))\n",
    "display(Math(r'\\text{C}_0 = \\text{C(t)} \\cdot e^{\\text{kt}}'))\n",
    "k = np.log(2)/half_life\n",
    "C_0 = 170*np.exp(k*0.16)\n",
    "AUC_total = C_0/k\n",
    "AUC_total_trapeizoidal = trapezoidal_rule(x=cocaine.time, y=cocaine.concentration)\n",
    "print(f'''(c)\n",
    "C(0) = {C_0 :.2f} μg/L\n",
    "AUC = {AUC_total :.2f} μg-hr/L\n",
    "AUC (trapeizoidal) = {AUC_total_trapeizoidal :.2f} μg-hr/L\n",
    "''')\n",
    "\n",
    "display(Math(r'\\text{Dose} = \\text{CL} \\cdot \\text{AUC}'))\n",
    "dose_cocaine = dose_co_hyd*(MM_cocaine/MM_co_hyd)\n",
    "CL = dose_co_hyd/(AUC_total/1000)\n",
    "print(f'''(d)\n",
    "CL = {CL :.2f} L/hr\n",
    "''')\n",
    "\n",
    "display(Math(r'\\text{k} = \\frac{\\text{CL}}{\\text{V}}'))\n",
    "body_weight = 75\n",
    "V = CL/k /body_weight\n",
    "print(f'''(e)\n",
    "V = {V :.2f} L/kg\n",
    "''')"
   ]
  },
  {
   "attachments": {
    "Chap 3 Ex 10.png": {
     "image/png": "[encoded data removed]"
    }
   },
   "cell_type": "markdown",
   "metadata": {},
   "source": [
    "## **Exercise 10**\n",
    "The figure below shows a semilogarithmic plot of the plasma concentration–time profile of theophylline following a 500-mg i.v. bolus dose in a 70-kg patient. Notice that the decline is biexponential, with the break in the curve at around 30 min. Theophylline is 40% bound in plasma and freely passes across membranes and distributes into all body water spaces. It is also extensively metabolized with only 10% of the dose excreted in the urine unchanged.<br>\n",
    "\n",
    "![Chap 3 Ex 10.png](<attachment:Chap 3 Ex 10.png>)\n",
    "\n",
    "**(a)** The total area under the plasma concentration–time profile of theophylline is 125 mg-hr/L. Calculate the total clearance of theophylline.<br>\n",
    "**(b)** Is it appropriate to call the initial decline phase up to about 30 min the distribution phase knowing that the AUC of theophylline up to that time is 13.1 mg-hr/L?<br>\n",
    "**(c)** The plasma concentration at the first sampling time of 5 min is 33 mg/L. What percentage of the dose has left the plasma by then and to where does the drug primarily go?<br>\n",
    "**(d)** Calculate the renal clearance of theophylline.<br>\n",
    "**(e)** From the plot, estimate the half-life of theophylline.<br>\n",
    "**(f)** Estimate the volume of distribution of theophylline.\n"
   ]
  },
  {
   "cell_type": "code",
   "execution_count": 103,
   "metadata": {},
   "outputs": [
    {
     "data": {
      "text/latex": [
       "$\\displaystyle \\text{Dose} = \\text{CL} \\cdot \\text{AUC}$"
      ],
      "text/plain": [
       "<IPython.core.display.Math object>"
      ]
     },
     "metadata": {},
     "output_type": "display_data"
    },
    {
     "name": "stdout",
     "output_type": "stream",
     "text": [
      "(a)\n",
      "CL = 4.00 L/hr\n",
      "\n"
     ]
    },
    {
     "data": {
      "text/latex": [
       "$\\displaystyle \\dfrac{\\text{Fraction Eliminated in 30 min}}{\\text{Fraction Totally Eliminated}} = \\dfrac{\\text{CL AUC}_{(0,t)}}{\\text{CL AUC}_{(0,\\infty)}}$"
      ],
      "text/plain": [
       "<IPython.core.display.Math object>"
      ]
     },
     "metadata": {},
     "output_type": "display_data"
    },
    {
     "name": "stdout",
     "output_type": "stream",
     "text": [
      "(b)\n",
      "Fraction of Dose Eliminated in 30 min = 10.48%\n",
      "Yes, the initial is the distribuition phase\n",
      "\n",
      "(c)\n",
      "For a 70 kg human, the volume of plasma is given by:\n",
      "V(plasma) = 3.00 L\n",
      "So, for a 33.00 mg/L concentration, we expect that 99.00 mg was distributed in the tissues in 5 minutes.\n",
      "This represents 19.80% in tissues and, therefore, 80.20% in plasma\n",
      "\n"
     ]
    },
    {
     "data": {
      "text/latex": [
       "$\\displaystyle \\text{CL}_\\text{R} = f\\text{e} \\cdot \\text{CL}$"
      ],
      "text/plain": [
       "<IPython.core.display.Math object>"
      ]
     },
     "metadata": {},
     "output_type": "display_data"
    },
    {
     "name": "stdout",
     "output_type": "stream",
     "text": [
      "(d)\n",
      "CL(renal) = 0.40 L/hr\n",
      "\n",
      "(e)\n",
      "t(1/2) = 5.00 hr\n",
      "\n"
     ]
    },
    {
     "data": {
      "text/latex": [
       "$\\displaystyle \\text{V} = 1.44 \\cdot \\text{CL} \\cdot \\text{t}_{1/2}$"
      ],
      "text/plain": [
       "<IPython.core.display.Math object>"
      ]
     },
     "metadata": {},
     "output_type": "display_data"
    },
    {
     "name": "stdout",
     "output_type": "stream",
     "text": [
      "(f)\n",
      "V = 28.80 L\n",
      "\n"
     ]
    }
   ],
   "source": [
    "dose = 500\n",
    "body_weight = 70\n",
    "bound_to_plasma = 0.4\n",
    "fe = 0.1\n",
    "display(Math(r'\\text{Dose} = \\text{CL} \\cdot \\text{AUC}'))\n",
    "AUC_total = 125\n",
    "CL = dose/AUC_total\n",
    "print(f'''(a)\n",
    "CL = {CL :.2f} L/hr\n",
    "''')\n",
    "\n",
    "display(Math(r'\\dfrac{\\text{Fraction Eliminated in 30 min}}{\\text{Fraction Totally Eliminated}} = \\dfrac{\\text{CL AUC}_{(0,t)}}{\\text{CL AUC}_{(0,\\infty)}}'))\n",
    "fraction_eliminated_30_min = 13.1\n",
    "print(f'''(b)\n",
    "Fraction of Dose Eliminated in 30 min = {100*fraction_eliminated_30_min/AUC_total :.2f}%\n",
    "Yes, the initial is the distribuition phase\n",
    "''')\n",
    "\n",
    "C_5_min = 33\n",
    "V_plasma = 3\n",
    "A_tissues_5_min = C_5_min*V_plasma\n",
    "print(f'''(c)\n",
    "For a 70 kg human, the volume of plasma is given by:\n",
    "V(plasma) = {V_plasma :.2f} L\n",
    "So, for a {C_5_min :.2f} mg/L concentration, we expect that {A_tissues_5_min :.2f} mg was distributed in the tissues in 5 minutes.\n",
    "This represents {100*A_tissues_5_min/dose :.2f}% in tissues and, therefore, {100*(1-A_tissues_5_min/dose) :.2f}% in plasma\n",
    "''')\n",
    "\n",
    "display(Math(r'\\text{CL}_\\text{R} = f\\text{e} \\cdot \\text{CL}'))\n",
    "CL_renal = fe*CL\n",
    "print(f'''(d)\n",
    "CL(renal) = {CL_renal :.2f} L/hr\n",
    "''')\n",
    "\n",
    "half_life = 5\n",
    "print(f'''(e)\n",
    "t(1/2) = {half_life :.2f} hr\n",
    "''')\n",
    "\n",
    "display(Math(r'\\text{V} = 1.44 \\cdot \\text{CL} \\cdot \\text{t}_{1/2}'))\n",
    "V = 1.44*CL*half_life\n",
    "print(f'''(f)\n",
    "V = {V :.2f} L\n",
    "''')\n"
   ]
  }
 ],
 "metadata": {
  "kernelspec": {
   "display_name": "env",
   "language": "python",
   "name": "python3"
  },
  "language_info": {
   "codemirror_mode": {
    "name": "ipython",
    "version": 3
   },
   "file_extension": ".py",
   "mimetype": "text/x-python",
   "name": "python",
   "nbconvert_exporter": "python",
   "pygments_lexer": "ipython3",
   "version": "3.12.6"
  }
 },
 "nbformat": 4,
 "nbformat_minor": 2
}
