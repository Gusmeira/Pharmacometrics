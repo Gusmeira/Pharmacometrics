{
 "cells": [
  {
   "cell_type": "markdown",
   "metadata": {},
   "source": [
    "# **Membranes and Distribution**"
   ]
  },
  {
   "cell_type": "code",
   "execution_count": 1,
   "metadata": {},
   "outputs": [],
   "source": [
    "from IPython.display import display, Math\n",
    "import numpy as np\n",
    "import pandas as pd\n",
    "\n",
    "import plotly.express as px\n",
    "import plotly.graph_objects as go\n",
    "import plotly.io as pio\n",
    "pio.renderers.default = 'png'\n",
    "\n",
    "import Module_\n",
    "equations = Module_.Equations()\n",
    "equations.chap_4()"
   ]
  },
  {
   "cell_type": "markdown",
   "metadata": {},
   "source": [
    "## **Exercise 3**   \n",
    "How accurate are each of the following statements?  \n",
    "**(a)** When distribution is perfusion rate-limited, the ratio of tissue-to-blood concentrations across a capillary membrane is virtually one at all times.  \n",
    "**(b)** When the surface area of a membrane is doubled, so is its permeability.  \n",
    "**(c)** Passive diffusion across a membrane stops when the unbound concentrations on both sides are the same.  \n",
    "**(d)** Carrier-mediated transport is one in which energy is needed to transfer drug across a membrane.  \n",
    "**(e)** Protein binding in the aqueous phases diminishes the permeability of membranes.  "
   ]
  },
  {
   "cell_type": "markdown",
   "metadata": {},
   "source": [
    "**(a)** ✗  \n",
    "The ratio starts at zero and rises with time. The ratio at steady state depends on the tissue-to-blood equilibrium partition ratio.  \n",
    "\n",
    "**(b)** ✗  \n",
    "Permeability and surface area are two different measures.  \n",
    "\n",
    "**(c)** ✗  \n",
    "Difusion continues; however, the rates in both directions are the same at equilibrium.  \n",
    "\n",
    "**(d)** ✗  \n",
    "There is active transport but also passive diffusion that are carrier-mediated.  \n",
    "\n",
    "**(e)** ✗  \n",
    "Binding to proteins affects the distribution–equilibrium ratio o concentrations but does not change the permeability o the diffusible form, the unbound drugs\n"
   ]
  },
  {
   "cell_type": "markdown",
   "metadata": {},
   "source": [
    "## **Exercise 4**<br>\n",
    "The volume of distribution of paroxetine (Paxil), a psychotropic drug, is about 300 L. The fraction unbound in plasma is 0.06.<br>\n",
    "**(a)** The plasma concentration when 30 mg of drug is in the body would therefore be _______ mg/L.<br>\n",
    "**(b)** The amount of drug in the body when the plasma concentration is 0.2 mg/L is _______ mg.<br>\n",
    "**(c)** The percentage of drug in the body that is:<br>\n",
    "1. In plasma is _______<br>\n",
    "2. Outside plasma is _______"
   ]
  },
  {
   "cell_type": "code",
   "execution_count": 2,
   "metadata": {},
   "outputs": [
    {
     "data": {
      "text/latex": [
       "$\\displaystyle \\text{V} = \\frac{\\text{A}}{\\text{C}}$"
      ],
      "text/plain": [
       "<IPython.core.display.Math object>"
      ]
     },
     "metadata": {},
     "output_type": "display_data"
    },
    {
     "name": "stdout",
     "output_type": "stream",
     "text": [
      "(a)\n",
      "C = 0.10 mg/L\n",
      "\n",
      "(b)\n",
      "A = 60.00 mg\n",
      "\n"
     ]
    },
    {
     "data": {
      "text/latex": [
       "$\\displaystyle \\text{Fraction Inside Plasma} = \\frac{\\text{V}_\\text{p}}{\\text{V}}$"
      ],
      "text/plain": [
       "<IPython.core.display.Math object>"
      ]
     },
     "metadata": {},
     "output_type": "display_data"
    },
    {
     "data": {
      "text/latex": [
       "$\\displaystyle \\text{Fraction Outside Plasma} = \\frac{\\text{V} - \\text{V}_\\text{p}}{\\text{V}}$"
      ],
      "text/plain": [
       "<IPython.core.display.Math object>"
      ]
     },
     "metadata": {},
     "output_type": "display_data"
    },
    {
     "name": "stdout",
     "output_type": "stream",
     "text": [
      "(c)\n",
      "Fraction Inside Plasma = 1.00%\n",
      "Fraction Outside Plasma = 99.00%\n",
      "\n"
     ]
    }
   ],
   "source": [
    "V = 300\n",
    "fu = 0.06\n",
    "\n",
    "display(equations.volume_c_a)\n",
    "A = 30\n",
    "C = A/V\n",
    "print(f'''(a)\n",
    "C = {C :.2f} mg/L\n",
    "''')\n",
    "\n",
    "C = 0.2\n",
    "A = C*V\n",
    "print(f'''(b)\n",
    "A = {A :.2f} mg\n",
    "''')\n",
    "\n",
    "display(equations.fraction_inside_plasma)\n",
    "display(equations.fraction_outside_plasma)\n",
    "Vp = 3 # Considering 3 L of blood\n",
    "A_inside_plasma = Vp/V\n",
    "A_outside_plasma = (V-Vp)/V\n",
    "print(f'''(c)\n",
    "Fraction Inside Plasma = {100*A_inside_plasma :.2f}%\n",
    "Fraction Outside Plasma = {100*A_outside_plasma :.2f}%\n",
    "''')"
   ]
  },
  {
   "cell_type": "markdown",
   "metadata": {},
   "source": [
    "## **Exercise 6**<br>\n",
    "For each of the following statements, indicate whether it is true or false. If false or ambiguous, provide an explanation for why it is so.  \n",
    "**(a)** The difference between equilibrating and concentration transporters is that drug only reaches equilibrium across a membrane in the case of the former kind of transporter.  \n",
    "**(b)** When the initial rate of distribution of a drug into a tissue fails to increase with an increase in the rate of blood perfusing it, the distribution to that tissue is said to be permeability rate-limited.  \n",
    "**(c)** All other factors being the same, absorption from solution within a given region of the small intestine where the pH is 6.4 is expected to be faster for a weak acid with a pKa of 10.0 than for a weak base with a pKa of 10.0."
   ]
  },
  {
   "cell_type": "markdown",
   "metadata": {},
   "source": [
    "**(a)** False  \n",
    "\n",
    "**(b)** True  \n",
    "\n",
    "**(c)** True  "
   ]
  },
  {
   "cell_type": "markdown",
   "metadata": {},
   "source": [
    "## **Exercise 9**<br> \n",
    "Using the information in Table 4-11, calculate the time required for the amounts in each of the tissues listed to reach 50% of the equilibrium value for a drug with perfusion rate-limited distribution when the arterial blood concentration is kept constant with time. Rank the times and the corresponding tissues.\n",
    "\n",
    "_Table 4-11 | Equilibrium Distribution Ratio and Perfusion Rate of a Drug in Selected Organs_\n",
    "\n",
    "| Organ   | Equilibrium Distribution Ratio | Perfusion Rate (mL/min/g of tissue) |\n",
    "|---------|--------------------------------|-------------------------------------|\n",
    "| Heart   | 3                              | 0.6                                 |\n",
    "| Kidneys | 4                              | 4                                   |\n",
    "| Liver   | 15                             | 0.8                                 |\n",
    "| Lungs   | 1                              | 10                                  |\n",
    "| Skin    | 12                             | 0.024                               |\n"
   ]
  },
  {
   "cell_type": "code",
   "execution_count": 3,
   "metadata": {},
   "outputs": [
    {
     "data": {
      "text/latex": [
       "$\\displaystyle \\text{Distribution Half-Life} = \\frac{\\ln 2 \\cdot \\text{K}_{\\text{p}_\\text{b}}}{\\text{Q}/\\text{V}_\\text{T}}$"
      ],
      "text/plain": [
       "<IPython.core.display.Math object>"
      ]
     },
     "metadata": {},
     "output_type": "display_data"
    },
    {
     "data": {
      "text/html": [
       "<div>\n",
       "<style scoped>\n",
       "    .dataframe tbody tr th:only-of-type {\n",
       "        vertical-align: middle;\n",
       "    }\n",
       "\n",
       "    .dataframe tbody tr th {\n",
       "        vertical-align: top;\n",
       "    }\n",
       "\n",
       "    .dataframe thead th {\n",
       "        text-align: right;\n",
       "    }\n",
       "</style>\n",
       "<table border=\"1\" class=\"dataframe\">\n",
       "  <thead>\n",
       "    <tr style=\"text-align: right;\">\n",
       "      <th></th>\n",
       "      <th>Kp</th>\n",
       "      <th>Perfusion [mL/min/g]</th>\n",
       "      <th>t (1/2) [min]</th>\n",
       "    </tr>\n",
       "  </thead>\n",
       "  <tbody>\n",
       "    <tr>\n",
       "      <th>Lungs</th>\n",
       "      <td>1</td>\n",
       "      <td>10.000</td>\n",
       "      <td>0.07</td>\n",
       "    </tr>\n",
       "    <tr>\n",
       "      <th>Kidneys</th>\n",
       "      <td>4</td>\n",
       "      <td>4.000</td>\n",
       "      <td>0.69</td>\n",
       "    </tr>\n",
       "    <tr>\n",
       "      <th>Heart</th>\n",
       "      <td>3</td>\n",
       "      <td>0.600</td>\n",
       "      <td>3.47</td>\n",
       "    </tr>\n",
       "    <tr>\n",
       "      <th>Liver</th>\n",
       "      <td>15</td>\n",
       "      <td>0.800</td>\n",
       "      <td>13.00</td>\n",
       "    </tr>\n",
       "    <tr>\n",
       "      <th>Skin</th>\n",
       "      <td>12</td>\n",
       "      <td>0.024</td>\n",
       "      <td>346.57</td>\n",
       "    </tr>\n",
       "  </tbody>\n",
       "</table>\n",
       "</div>"
      ],
      "text/plain": [
       "         Kp  Perfusion [mL/min/g]  t (1/2) [min]\n",
       "Lungs     1                10.000           0.07\n",
       "Kidneys   4                 4.000           0.69\n",
       "Heart     3                 0.600           3.47\n",
       "Liver    15                 0.800          13.00\n",
       "Skin     12                 0.024         346.57"
      ]
     },
     "metadata": {},
     "output_type": "display_data"
    }
   ],
   "source": [
    "df = pd.DataFrame(\n",
    "    data = {\n",
    "        'Kp': [3, 4, 15, 1, 12],\n",
    "        'Perfusion [mL/min/g]': [0.6, 4, 0.8, 10, 0.024]\n",
    "    }, index=['Heart', 'Kidneys', 'Liver', 'Lungs', 'Skin'])\n",
    "\n",
    "display(equations.distribution_half_life)\n",
    "df['t (1/2) [min]'] = np.round((np.log(2)*df['Kp'])/(df['Perfusion [mL/min/g]']),2)\n",
    "display(df.sort_values(by='t (1/2) [min]'))"
   ]
  },
  {
   "cell_type": "markdown",
   "metadata": {},
   "source": [
    "## **Exercise 10**\n",
    "The volume of distribution of a drug (MW = 351 g/mol) in a 70-kg subject is observed to be 8 L. Indicate which one (or more) of the following statements is (are) consistent with this observation. The drug is:  \n",
    "**(a)** Highly bound to plasma proteins.  \n",
    "**(b)** Bound to components outside plasma and is highly bound to proteins in plasma.  \n",
    "**(c)** Not bound to plasma proteins."
   ]
  },
  {
   "cell_type": "markdown",
   "metadata": {},
   "source": [
    "**(a)** ✓  \n",
    "If not, it would distribute ate least to extracellular space $(\\approx 16 \\text{ L})$\n",
    "\n",
    "**(b)** ✓  \n",
    "For drugs bound to albumin, $V \\geq 7.5 \\text{ L}$\n",
    "\n",
    "**(c)** ✗"
   ]
  },
  {
   "cell_type": "markdown",
   "metadata": {},
   "source": [
    "## **Exercise 11**\n",
    "Ganeval et al. studied the pharmacokinetics of warfarin in 11 patients with nephrotic syndrome. Table 4-12 illustrates the differences in warfarin kinetics in the two populations. No data on differences in body weight between the two groups were given. For the purposes of this problem, both groups averaged 70 kg.  \n",
    "\n",
    "_Table 4-12 | Mean Pharmacokinetic Parameters and Serum Albumin Concentrations in 11 Control and 11 Nephrotic Patients after Oral Administration (8 mg) of Warfarin_\n",
    "\n",
    "| Parameters         | Control Group        | Nephrotic Patients      |\n",
    "|---------------------|----------------------|--------------------------|\n",
    "| V (L)              | 9.4 ± 2.7           | 13.7 ± 6.6              |\n",
    "| CL (L/hr)          | 0.20 ± 0.07         | 0.58 ± 0.26             |\n",
    "| t₁/₂ (hr)          | 36 ± 14             | 18 ± 11                 |\n",
    "| Serum albumin (g/L)| 43 ± 5              | 12.5 ± 6.5              |\n",
    "\n",
    "**(a)** Given a fraction unbound of 0.005 in the control group, estimate the value expected in the nephrotic group.  \n",
    "**(b)** Warfarin has a small volume of distribution. Calculate the expected volume of distribution in the patients with the nephrotic syndrome if fu is increased to the value calculated in “a.” Does it agree with the observed value? Hint: Determine the value of fuR in the control group and assume it is the same in the nephrotic patients.  \n",
    "**(c)** Had the half-life data not been given, could you have predicted the observed shortening of the value in nephrotic patients? This condition usually suggests induction of metabolism."
   ]
  },
  {
   "cell_type": "code",
   "execution_count": 12,
   "metadata": {},
   "outputs": [
    {
     "data": {
      "text/latex": [
       "$\\displaystyle \\dfrac{f\\text{u}'}{f\\text{u}} \\approx \\dfrac{\\text{P}_\\text{t}}{\\text{P}_\\text{t}'}$"
      ],
      "text/plain": [
       "<IPython.core.display.Math object>"
      ]
     },
     "metadata": {},
     "output_type": "display_data"
    },
    {
     "name": "stdout",
     "output_type": "stream",
     "text": [
      "(a)\n",
      "fu' = 0.0172\n",
      "\n"
     ]
    },
    {
     "data": {
      "text/latex": [
       "$\\displaystyle f\\text{u}_\\text{R} = \\frac{\\text{V}_\\text{R}}{(\\text{V} - 7.5) \\cdot \\frac{1}{f\\text{u}}}$"
      ],
      "text/plain": [
       "<IPython.core.display.Math object>"
      ]
     },
     "metadata": {},
     "output_type": "display_data"
    },
    {
     "data": {
      "text/latex": [
       "$\\displaystyle \\text{V} = 7.5 + \\left( 7.5 + \\frac{\\text{V}_\\text{R}}{f\\text{u}_\\text{R}} \\right) \\cdot f\\text{u}$"
      ],
      "text/plain": [
       "<IPython.core.display.Math object>"
      ]
     },
     "metadata": {},
     "output_type": "display_data"
    },
    {
     "name": "stdout",
     "output_type": "stream",
     "text": [
      "(b)\n",
      "fu(R) = 0.0711\n",
      "V = 14.17 L\n",
      "\n"
     ]
    },
    {
     "data": {
      "text/latex": [
       "$\\displaystyle \\text{V} = 1.44 \\cdot \\text{CL} \\cdot \\text{t}_{1/2}$"
      ],
      "text/plain": [
       "<IPython.core.display.Math object>"
      ]
     },
     "metadata": {},
     "output_type": "display_data"
    },
    {
     "name": "stdout",
     "output_type": "stream",
     "text": [
      "(c)\n",
      "Yes. There is a large increase in CL.\n",
      "\n"
     ]
    }
   ],
   "source": [
    "weight = 70\n",
    "\n",
    "display(equations.new_fu_estimation)\n",
    "fu = 0.005\n",
    "Pt = 43\n",
    "Pt_line = 12.5\n",
    "fu_line = (fu*Pt)/Pt_line\n",
    "print(f'''(a)\n",
    "fu' = {fu_line :.4f}\n",
    "''')\n",
    "\n",
    "display(equations.fu_r)\n",
    "display(equations.volume_distribution_albumin)\n",
    "V = 9.4\n",
    "V_r = 27\n",
    "fu_r = V_r/((V-7.5)*fu**-1)\n",
    "V = 7.5+(7.5+(V_r/fu_r))*fu_line\n",
    "print(f'''(b)\n",
    "fu(R) = {fu_r :.4f}\n",
    "V = {V :.2f} L\n",
    "''')\n",
    "\n",
    "eq_chap_3 = Module_.Equations()\n",
    "eq_chap_3.chap_3()\n",
    "display(eq_chap_3.volume_distribution_half_life)\n",
    "print(f'''(c)\n",
    "Yes. There is a large increase in CL.\n",
    "''')"
   ]
  },
  {
   "cell_type": "markdown",
   "metadata": {},
   "source": [
    "## **Exercise 12**\n",
    "Briefly comment on the validity of each of the following statements.  \n",
    "**(a)** The equilibrium distribution ratio for a drug between liver (1.6 L in size) and plasma (3 L) is 50; therefore, its volume of distribution must be at least 75 L in a man weighing 70 kg.  \n",
    "**(b)** A drug that essentially reaches distribution equilibrium within 30 min, yet whose volume of distribution in a 70-kg man is 200 L, must distribute primarily into well-perfused organs."
   ]
  },
  {
   "cell_type": "code",
   "execution_count": 29,
   "metadata": {},
   "outputs": [
    {
     "data": {
      "text/latex": [
       "$\\displaystyle \\text{K}_{\\text{p}_\\text{b}} = \\dfrac{\\text{C}_\\text{Tissue}}{\\text{C}_\\text{Blood}}$"
      ],
      "text/plain": [
       "<IPython.core.display.Math object>"
      ]
     },
     "metadata": {},
     "output_type": "display_data"
    },
    {
     "name": "stdout",
     "output_type": "stream",
     "text": [
      "(a)\n",
      "It is, indeed, greater than 75 L since the concentration in the liver is 50 times greater than in blood and is volume in size is 1.6 L, giving at least 80.0 L of distribution volume\n",
      "\n"
     ]
    },
    {
     "data": {
      "text/latex": [
       "$\\displaystyle \\text{Distribution Half-Life} = \\frac{\\ln 2 \\cdot \\text{K}_{\\text{p}_\\text{b}}}{\\text{Q}/\\text{V}_\\text{T}}$"
      ],
      "text/plain": [
       "<IPython.core.display.Math object>"
      ]
     },
     "metadata": {},
     "output_type": "display_data"
    },
    {
     "name": "stdout",
     "output_type": "stream",
     "text": [
      "(b)\n",
      "It is true, since the drug go to higher Kp tissues.\n",
      "\n"
     ]
    }
   ],
   "source": [
    "display(equations.constant_equilibrium_distribution_rate)\n",
    "print(f'''(a)\n",
    "It is, indeed, greater than 75 L since the concentration in the liver is 50 times greater than in blood and is volume in size is 1.6 L, giving at least {50*1.6} L of distribution volume\n",
    "''')\n",
    "\n",
    "display(equations.distribution_half_life)\n",
    "print(f'''(b)\n",
    "It is true, since the drug go to higher Kp tissues.\n",
    "''')"
   ]
  }
 ],
 "metadata": {
  "kernelspec": {
   "display_name": "env",
   "language": "python",
   "name": "python3"
  },
  "language_info": {
   "codemirror_mode": {
    "name": "ipython",
    "version": 3
   },
   "file_extension": ".py",
   "mimetype": "text/x-python",
   "name": "python",
   "nbconvert_exporter": "python",
   "pygments_lexer": "ipython3",
   "version": "3.12.6"
  }
 },
 "nbformat": 4,
 "nbformat_minor": 2
}
