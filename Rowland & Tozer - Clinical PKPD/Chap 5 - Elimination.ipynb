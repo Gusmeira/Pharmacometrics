{
 "cells": [
  {
   "cell_type": "markdown",
   "metadata": {},
   "source": [
    "# **Membranes and Distribution**"
   ]
  },
  {
   "cell_type": "code",
   "execution_count": 80,
   "metadata": {},
   "outputs": [],
   "source": [
    "from IPython.display import display, Math\n",
    "import numpy as np\n",
    "import pandas as pd\n",
    "\n",
    "import plotly.express as px\n",
    "import plotly.graph_objects as go\n",
    "import plotly.io as pio\n",
    "pio.renderers.default = 'png'\n",
    "\n",
    "import Module_\n",
    "equations = Module_.Equations()\n",
    "equations.chap_5()"
   ]
  },
  {
   "cell_type": "markdown",
   "metadata": {},
   "source": [
    "## **Exercise 2**  \n",
    "The values of selected pharmacokinetic parameters for various drugs are given in Table 5-10.  \n",
    "Complete the table by calculating the missing values. Use 80 L/hr as the hepatic blood flow.   \n",
    "\n",
    "| Drug | fuB  | fu   | CL_B (L/hr) | CL (L/hr) | CL_U (L/hr) | C/C_B   | EH   |\n",
    "|------|------|------|------------|-----------|------------|--------|------|\n",
    "| A    | ?    | 0.2  | 1.2        | 1.6       | ?          | ?      | ?    |\n",
    "| B    | ?    | 0.3  | ?          | 90.0      | ?          | 0.022  | ?    |\n",
    "| C    | ?    | 0.02 | ?          | ?         | ?          | 0.37   | 0.9  |\n",
    "| D    | ?    | ?    | ?          | 0.5       | 5          | ?      | 0.01 |"
   ]
  },
  {
   "cell_type": "code",
   "execution_count": 72,
   "metadata": {},
   "outputs": [
    {
     "data": {
      "text/latex": [
       "$\\displaystyle f\\text{u}=f\\text{u}_\\text{b} / \\dfrac{\\text{C}}{\\text{C}_\\text{b}}$"
      ],
      "text/plain": [
       "<IPython.core.display.Math object>"
      ]
     },
     "metadata": {},
     "output_type": "display_data"
    },
    {
     "data": {
      "text/latex": [
       "$\\displaystyle \\text{CL}=\\text{CL}_\\text{b} / \\dfrac{\\text{C}}{\\text{C}_\\text{b}}$"
      ],
      "text/plain": [
       "<IPython.core.display.Math object>"
      ]
     },
     "metadata": {},
     "output_type": "display_data"
    },
    {
     "data": {
      "text/latex": [
       "$\\displaystyle \\text{CL}_{\\text{H}} = \\text{Q}_{\\text{H}} \\cdot \\text{E}_{\\text{H}}$"
      ],
      "text/plain": [
       "<IPython.core.display.Math object>"
      ]
     },
     "metadata": {},
     "output_type": "display_data"
    },
    {
     "data": {
      "text/latex": [
       "$\\displaystyle \\text{CL}_{\\text{b}} = \\text{CL} \\cdot \\left(\\frac{\\text{C}}{\\text{C}_{\\text{b}}}\\right)$"
      ],
      "text/plain": [
       "<IPython.core.display.Math object>"
      ]
     },
     "metadata": {},
     "output_type": "display_data"
    },
    {
     "data": {
      "text/latex": [
       "$\\displaystyle \\text{CLu} = \\frac{\\text{CL}}{f\\text{u}}$"
      ],
      "text/plain": [
       "<IPython.core.display.Math object>"
      ]
     },
     "metadata": {},
     "output_type": "display_data"
    },
    {
     "data": {
      "text/html": [
       "<div>\n",
       "<style scoped>\n",
       "    .dataframe tbody tr th:only-of-type {\n",
       "        vertical-align: middle;\n",
       "    }\n",
       "\n",
       "    .dataframe tbody tr th {\n",
       "        vertical-align: top;\n",
       "    }\n",
       "\n",
       "    .dataframe thead th {\n",
       "        text-align: right;\n",
       "    }\n",
       "</style>\n",
       "<table border=\"1\" class=\"dataframe\">\n",
       "  <thead>\n",
       "    <tr style=\"text-align: right;\">\n",
       "      <th></th>\n",
       "      <th>fuB</th>\n",
       "      <th>fu</th>\n",
       "      <th>CL_B</th>\n",
       "      <th>CL</th>\n",
       "      <th>CL_U</th>\n",
       "      <th>C/C_B</th>\n",
       "      <th>EH</th>\n",
       "    </tr>\n",
       "    <tr>\n",
       "      <th>Drug</th>\n",
       "      <th></th>\n",
       "      <th></th>\n",
       "      <th></th>\n",
       "      <th></th>\n",
       "      <th></th>\n",
       "      <th></th>\n",
       "      <th></th>\n",
       "    </tr>\n",
       "  </thead>\n",
       "  <tbody>\n",
       "    <tr>\n",
       "      <th>A</th>\n",
       "      <td>0.1500</td>\n",
       "      <td>0.20</td>\n",
       "      <td>1.20</td>\n",
       "      <td>1.60</td>\n",
       "      <td>8.0</td>\n",
       "      <td>0.750</td>\n",
       "      <td>0.01500</td>\n",
       "    </tr>\n",
       "    <tr>\n",
       "      <th>B</th>\n",
       "      <td>0.0066</td>\n",
       "      <td>0.30</td>\n",
       "      <td>1.98</td>\n",
       "      <td>90.00</td>\n",
       "      <td>300.0</td>\n",
       "      <td>0.022</td>\n",
       "      <td>0.02475</td>\n",
       "    </tr>\n",
       "    <tr>\n",
       "      <th>C</th>\n",
       "      <td>0.0074</td>\n",
       "      <td>0.02</td>\n",
       "      <td>72.00</td>\n",
       "      <td>194.59</td>\n",
       "      <td>9729.5</td>\n",
       "      <td>0.370</td>\n",
       "      <td>0.90000</td>\n",
       "    </tr>\n",
       "    <tr>\n",
       "      <th>D</th>\n",
       "      <td>0.1600</td>\n",
       "      <td>0.10</td>\n",
       "      <td>0.80</td>\n",
       "      <td>0.50</td>\n",
       "      <td>5.0</td>\n",
       "      <td>1.600</td>\n",
       "      <td>0.01000</td>\n",
       "    </tr>\n",
       "  </tbody>\n",
       "</table>\n",
       "</div>"
      ],
      "text/plain": [
       "         fuB    fu   CL_B      CL    CL_U  C/C_B       EH\n",
       "Drug                                                     \n",
       "A     0.1500  0.20   1.20    1.60     8.0  0.750  0.01500\n",
       "B     0.0066  0.30   1.98   90.00   300.0  0.022  0.02475\n",
       "C     0.0074  0.02  72.00  194.59  9729.5  0.370  0.90000\n",
       "D     0.1600  0.10   0.80    0.50     5.0  1.600  0.01000"
      ]
     },
     "metadata": {},
     "output_type": "display_data"
    }
   ],
   "source": [
    "table = pd.DataFrame({\n",
    "    \"Drug\": [\"A\", \"B\", \"C\", \"D\"],\n",
    "    \"fuB\": [np.nan, np.nan, np.nan, np.nan],\n",
    "    \"fu\": [0.2, 0.3, 0.02, np.nan],\n",
    "    \"CL_B\": [1.2, np.nan, np.nan, np.nan],\n",
    "    \"CL\": [1.6, 90.0, np.nan, 0.5],\n",
    "    \"CL_U\": [np.nan, np.nan, np.nan, 5],\n",
    "    \"C/C_B\": [np.nan, 0.022, 0.37, np.nan],\n",
    "    \"EH\": [np.nan, np.nan, 0.9, 0.01]\n",
    "}).set_index('Drug')\n",
    "QH = 80\n",
    "\n",
    "display(Math(r'f\\text{u}=f\\text{u}_\\text{b} / \\dfrac{\\text{C}}{\\text{C}_\\text{b}}'))\n",
    "display(Math(r'\\text{CL}=\\text{CL}_\\text{b} / \\dfrac{\\text{C}}{\\text{C}_\\text{b}}'))\n",
    "display(equations.renal_clearance_hepatic)\n",
    "display(equations.clearance_b)\n",
    "display(equations.clearance_u)\n",
    "\n",
    "table.loc['A','C/C_B'] = table.loc['A','CL_B']/table.loc['A','CL']\n",
    "table.loc['A','fuB'] = table.loc['A','fu']*table.loc['A','C/C_B']\n",
    "table.loc['A','CL_U'] = table.loc['A','CL']/table.loc['A','fu']\n",
    "table.loc['A','EH'] = table.loc['A','CL_B']/QH\n",
    "\n",
    "table.loc['B','fuB'] = table.loc['B','fu']*table.loc['B','C/C_B']\n",
    "table.loc['B','CL_B'] = table.loc['B','CL']*table.loc['B','C/C_B']\n",
    "table.loc['B','CL_U'] = table.loc['B','CL']/table.loc['B','fu']\n",
    "table.loc['B','EH'] = table.loc['B','CL_B']/QH\n",
    "\n",
    "table.loc['C','fuB'] = table.loc['C','fu']*table.loc['C','C/C_B']\n",
    "table.loc['C','CL_B'] = QH*table.loc['C','EH']\n",
    "table.loc['C','CL'] = round(table.loc['C','CL_B']/table.loc['C','C/C_B'],2)\n",
    "table.loc['C','CL_U'] = table.loc['C','CL']/table.loc['C','fu']\n",
    "\n",
    "table.loc['D','fu'] = table.loc['D','CL']/table.loc['D','CL_U']\n",
    "table.loc['D','CL_B'] = QH*table.loc['D','EH']\n",
    "table.loc['D','C/C_B'] = table.loc['D','CL_B']/table.loc['D','CL']\n",
    "table.loc['D','fuB'] = table.loc['D','fu']*table.loc['D','C/C_B']\n",
    "\n",
    "display(table)"
   ]
  },
  {
   "cell_type": "markdown",
   "metadata": {},
   "source": [
    "## **Exercise 3**  \n",
    "Comment on the following statements:  \n",
    "**(a)** A high plasma clearance implies that the drug has a high extraction ratio.  \n",
    "**(b)** The intrinsic clearance and unbound clearance of a drug by an organ are two terms used to describe the same property.  \n",
    "**(c)** Clearance by one organ adds to that of another.  \n",
    "**(d)** Organ clearance is rate-limited either by perfusion or because the drug is a poor substrate for the enzymatic and excretory processes responsible for its elimination.  \n",
    "**(e)** Enterohepatic cycling effectively reduces the clearance of a drug.  "
   ]
  },
  {
   "cell_type": "markdown",
   "metadata": {},
   "source": [
    "**(a)** ✓ This might be true for some cases, but blood proteins interactions may occour sometimes, leading to a high clearance and low true extraction ratio.\n",
    "\n",
    "**(b)** ✗ This is only true for low extraction ratios when $\\text{CL}=f\\text{u}\\cdot \\text{CLu}=f\\text{u}\\cdot \\text{CL}_\\text{int}$  \n",
    "\n",
    "**(c)** ✗ Only holds for parallel disposition organs.  \n",
    "\n",
    "**(d)** ✓ Must also consider GFR limitation.  \n",
    "\n",
    "**(e)** ✓ Might be true for when it is a path of elimination.  "
   ]
  },
  {
   "cell_type": "markdown",
   "metadata": {},
   "source": [
    "## **Exercise 4**  \n",
    "**(a)** Complete [Table 5-11] (with high, low, ↑, ↓, ↔ in the blank spaces) to indicate the expectation for the drugs listed. Assume that each drug is eliminated exclusively in the liver.\n",
    "\n",
    "_TABLE 5-11: Changes in the Hepatic Handling of Selected Drugs_\n",
    "\n",
    "| Drug | Hepatic Extraction Ratio | Hepatic Blood Flow | Unbound Fraction in Blood | Intrinsic Clearance | (Plasma) Clearance |\n",
    "|------|--------------------------|--------------------|--------------------------|---------------------|---------------------|\n",
    "| A    | High                     | ↑                  | ↔                        | ↔                   | ?                   |\n",
    "| B    | Low                      | ↔                  | ↓                        | ↔                   | ?                   |\n",
    "| C    | Low                      | ↔                  | ↔                        | ↑                   | ?                   |\n",
    "| D    | High                     | ↔                  | ↔                        | ↑                   | ?                   |\n",
    "| E    | Low                      | ↔                  | ?                        | ↔                   | ↑                   |\n",
    "| F    | High                     | ↔                  | ↓                        | ↔                   | ?                   |\n",
    "| G    | ?                        | ↓                  | ↔                        | ↔                   | ↔                   |\n",
    "| H    | ?                        | ↓                  | ↔                        | ↔                   | ↓                   |\n",
    "\n",
    "**Legend:**\n",
    "- **↑**: Increase\n",
    "- **↔**: Little or no change\n",
    "- **↓**: Decrease\n",
    "\n",
    "**(b)** Indicate the expected direction of change in half-life for the conditions given for Drug A and Drug C. Both drugs have a volume of distribution greater than 100 L.  "
   ]
  },
  {
   "cell_type": "markdown",
   "metadata": {},
   "source": [
    "**(a)**\n",
    "\n",
    "| Drug | Hepatic Extraction Ratio | Hepatic Blood Flow | Unbound Fraction in Blood | Intrinsic Clearance | (Plasma) Clearance |\n",
    "|------|--------------------------|--------------------|--------------------------|---------------------|---------------------|\n",
    "| A    | High                     | ↑                  | ↔                        | ↔                   | ↑                   |\n",
    "| B    | Low                      | ↔                  | ↓                        | ↔                   | ↓                   |\n",
    "| C    | Low                      | ↔                  | ↔                        | ↑                   | ↑                   |\n",
    "| D    | High                     | ↔                  | ↔                        | ↑                   | ↔                   |\n",
    "| E    | Low                      | ↔                  | ↑                        | ↔                   | ↑                   |\n",
    "| F    | High                     | ↔                  | ↓                        | ↔                   | ↔                   |\n",
    "| G    | Low                      | ↓                  | ↔                        | ↔                   | ↔                   |\n",
    "| H    | High                     | ↓                  | ↔                        | ↔                   | ↓                   |\n",
    "\n",
    "**(b)**  \n",
    "Drug A, t 1/2 ↓. A change in hepatic blood low has no effect on V. Hence, as CL ↑, it follows that t 1/2 ↓.  \n",
    "Drug C, t 1/2 ↓. A change in intrinsic clearance has no effect on V. Hence, as intrinsic clearance is increased, so must CL (CL = fu CL_int or low extraction ratio drug). It follows that t 1/2 ↓."
   ]
  },
  {
   "cell_type": "markdown",
   "metadata": {},
   "source": [
    "## **Exercise 5**  \n",
    "The immunosuppressive drug tacrolimus has the following characteristics:  \n",
    "- Plasma clearance = 4.2 L/hr  \n",
    "- Fraction in plasma unbound = 0.01  \n",
    "- Plasma-to-blood concentration ratio = 0.03  \n",
    "- The drug is eliminated by CYP3A4-catalyzed hepatic metabolism, with a negligible fraction excreted unchanged in urine.  \n",
    "**(a)** Comment on whether tacrolimus has a high or low hepatic extraction ratio.  \n",
    "**(b)** Why is the plasma-to-blood concentration ratio so low?  \n",
    "**(c)** What are the expected changes in the clearance and half-life of tacrolimus following induction of CYP3A4, which results in an increase in the hepatocellular metabolic activity of the drug?  "
   ]
  },
  {
   "cell_type": "code",
   "execution_count": 78,
   "metadata": {},
   "outputs": [
    {
     "data": {
      "text/latex": [
       "$\\displaystyle \\text{CL}_{\\text{b}} = \\text{CL} \\cdot \\left(\\frac{\\text{C}}{\\text{C}_{\\text{b}}}\\right)$"
      ],
      "text/plain": [
       "<IPython.core.display.Math object>"
      ]
     },
     "metadata": {},
     "output_type": "display_data"
    }
   ],
   "source": [
    "display(equations.clearance_b)"
   ]
  },
  {
   "cell_type": "markdown",
   "metadata": {},
   "source": [
    "**(a)** $\\text{CL}_\\text{b} \\approx 0.126 \\text{ L/hr}$, so it has a low extraction ratio.\n",
    "\n",
    "**(b)** There is a huge affinity for blood cells, much greater when compared to plasma proteins.\n",
    "\n",
    "**(c)** Since $\\text{CL}=f\\text{u}\\cdot \\text{CL}_\\text{int}$, half-live would decrease and the clearance increase."
   ]
  },
  {
   "cell_type": "markdown",
   "metadata": {},
   "source": [
    "## **Exercise 6**  \n",
    "The renal clearances and the fractions unbound in plasma of three drugs in a 70-kg, 20-year-old subject are listed in Table 5-12.  \n",
    "State the likely involvement of filtration, secretion, and tubular reabsorption in the renal handling of each of these drugs, when GFR is 120 mL/min and urine flow is 1.5 mL/min, typical values in a 20-year-old adult man.  \n",
    "\n",
    "| Drug      | Renal Clearance (mL/min) | Fraction Unbound |\n",
    "|-----------|--------------------------|------------------|\n",
    "| Phenytoin | 0.15                     | 0.10             |\n",
    "| Cefonicid | 20                        | 0.02             |\n",
    "| Digoxin   | 100                       | 0.79             |"
   ]
  },
  {
   "cell_type": "markdown",
   "metadata": {},
   "source": [
    "**Phenytoin**: é extensivamente reabsorvido $(\\text{CL}_\\text{R}<f\\text{u} \\cdot \\text{GFR} \\approx 12 \\text{ mL/min})$. Considerando que $(f\\text{u}\\cdot \\text{Q}_\\text{urine} \\approx 0.1\\cdot \\text{1-2} \\text{ mL/min})$ indica que está perto do equilíbrio esperado se não ionizado.  \n",
    "**Cefonicid**: é secretado $(\\text{CL}_\\text{R}>f\\text{u} \\cdot \\text{GFR} \\approx 2.4 \\text{ mL/min})$.   \n",
    "**Digoxin**: $(\\text{CL}_\\text{R}=f\\text{u} \\cdot \\text{GFR})$. "
   ]
  },
  {
   "cell_type": "markdown",
   "metadata": {},
   "source": [
    "## **Exercise 7**  \n",
    "Table 5-13 lists the renal and total clearance of nicotine (pKa 8.3) under normal conditions in people who smoke cigarettes, sustained low urinary pH (achieved by concurrent and repeated ingestion of ammonium chloride), and high urinary pH (achieved by concurrent and repeated ingestion of sodium bicarbonate) following IV administration of nicotine.  \n",
    "**(a)** Based on the findings, is nicotine an acid or a base?  \n",
    "**(b)** Is the pKa of nicotine consistent with your expectation of the large pH sensitivity of renal clearance?  \n",
    "\n",
    "| Treatment          | Mean Urine pH | Renal Clearance (mL/min) | Total Clearance (mL/min) |\n",
    "|-------------------|--------------|-------------------------|-------------------------|\n",
    "| Control          | 5.8          | 102                     | 1153                    |\n",
    "| Ammonium chloride | 4.5          | 562                     | 1751                    |\n",
    "| Sodium bicarbonate | 6.7          | 39                      | 1226                    |\n",
    "\n",
    "**(c)** Under which of the three conditions is renal clearance most likely to be dependent on urine flow rate? The plasma protein binding of nicotine is less than 5%.  \n",
    "**(d)** Under what circumstances would modification of urine pH markedly influence the half-life of nicotine?  "
   ]
  },
  {
   "cell_type": "markdown",
   "metadata": {},
   "source": [
    "**(a) Nicotine must be a base**, as renal clearance increases with increasing acidity, reflecting lower tubular reabsorption associated with a declining fraction of drug unionized at lower $\\text{pH}$ values.\n",
    "\n",
    "**(b) Yes.** $\\text{pH}$ sensitivity for nonpolar bases is expected in the $\\text{pKa}$ range 7 to 12, and nicotine has a $\\text{pKa}$ of 8.3.\n",
    "\n",
    "**(c) Under alkaline urine conditions.** With a renal clearance of only 39 $\\text{mL/min}$, and knowing it is minimally bound in plasma, nicotine must be extensively reabsorbed as its renal clearance is 562 $\\text{mL/min}$ under acidic conditions, when reabsorption is the least, pointing to extensive secretion of nicotine. With extensive reabsorption, renal clearance should become more sensitive to urine flow.\n",
    "\n",
    "**(d) When metabolism is substantially inhibited or impaired.** Despite the marked $\\text{pH}$ sensitivity of nicotine, under normal circumstances, nonrenal (hepatic) clearance is so high (1150 $\\text{mL/min}$) that it dominates so that clearance and hence half-life only changes modestly with acidification of urine. For renal clearance to dominate, for renal clearance to dominate, metabolic clearance would have to be drastically reduced. This may occur in the presence of a strong metabolic inhibitor, in severe hepatic cirrhosis, or if metabolism became saturated.\n"
   ]
  },
  {
   "cell_type": "markdown",
   "metadata": {},
   "source": [
    "## **Exercise 8**  \n",
    "The following information regarding theophylline is either provided in Problem 10 of Chapter 13, or it exists following an intravenous bolus dose, or was calculated from the data provided.  \n",
    "- Clearance = 4 L/hr  \n",
    "- Volume of distribution = 29 L  \n",
    "- Half-life = 5 hr  \n",
    "\n",
    "It is 40% bound in plasma and freely passes across cell membranes and distributes in all body-water spaces. It is also extensively metabolized with only **10%** of the dose excreted in the urine following an IV dose.  \n",
    "**(a)** Comment, with justification, on whether theophylline has a low or high hepatic extraction ratio.  \n",
    "**(b)** Comment on whether a definite statement can be made as to whether there is net renal secretion or net renal tubular reabsorption.  \n",
    "**(c)** Knowing the volume of distribution and fraction unbound in plasma, calculate:  \n",
    "\n",
    "> **(1)**  \n",
    "> > **(i)** The fraction of theophylline in the body unbound at distribution equilibrium.  \n",
    "> > **(ii)** The unbound concentration when there is 500 mg of theophylline in the body at distribution equilibrium.  \n",
    "\n",
    "> **(2)**  \n",
    "> > **(i)** The volume of distribution of theophylline in an individual receiving a 300-mg dose in whom the fraction unbound in plasma is 0.30.  \n",
    "> > **(ii)** The unbound concentration in that individual when there is 500 mg of theophylline in the body. Comment on the sensitivity of unbound concentration to changes in fraction unbound in plasma."
   ]
  },
  {
   "cell_type": "markdown",
   "metadata": {},
   "source": [
    "**a. Theophylline is a low extraction ratio drug.** \\(\\text{CL} = 4 \\text{ L/hr}\\), and even in the extreme case that the plasma blood concentration ratio is 2, implying none entered the blood cells, \\(\\text{CL}_b\\) cannot exceed \\(8 \\text{ L/hr}\\), which is considerably less than either hepatic or renal blood flow.\n",
    "\n",
    "**b. Yes, there is definitely net reabsorption.** \\(\\text{CL}_R = 0.4 \\text{ L/hr} \\, (\\text{fe} \\cdot \\text{CL})\\), which is less than filtration clearance \\(\\left( \\text{f}_u \\cdot \\text{GFR} = 0.6 \\cdot 7.5 \\text{ L/hr} = 4.5 \\text{ L/hr} \\right)\\).\n",
    "\n",
    "**c. (1) i. The fraction of theophylline in the body unbound is 0.87.**\n",
    "\n",
    "$$\\text{Fraction unbound} = \\frac{\\text{Amount of body unbound}}{\\text{Total amount in body}} = \\frac{\\text{Cu} \\cdot 42 \\text{ L}}{\\text{C} \\cdot V} = \\frac{f_u \\cdot 42 \\text{ L}}{V}$$\n",
    "\n",
    "$$= \\frac{0.6 \\cdot 42 \\text{ L}}{29 \\text{ L}} = 0.87$$\n",
    "\n",
    "Hence, **87%** of theophylline in the body is unbound at equilibrium.\n",
    "\n",
    "**ii. Unbound concentration = 10.4 mg/L.**\n",
    "\n",
    "$$\\text{Cu} = \\frac{\\text{Fraction unbound in body} \\cdot \\text{Dose}}{42 \\text{ L}}$$\n",
    "\n",
    "$$= \\frac{0.87 \\cdot 500 \\text{ mg}}{42 \\text{ L}} = 10.4 \\text{ mg/L}$$\n",
    "\n",
    "**(2) i. Volume of distribution is 16 L, when \\( f_u = 0.3 \\).**\n",
    "\n",
    "$$V = V_p + \\frac{f_u \\cdot V_{TW}}{f_uT}$$\n",
    "\n",
    "With only \\( f_u \\) changing, it is possible to predict the volume of distribution for a given value of \\( f_u \\). The approach is as follows. Upon rearrangement, one obtains:\n",
    "\n",
    "$$\\frac{V_{TW}}{f_uT} = \\frac{V - V_p}{f_u}$$\n",
    "\n",
    "where \\( V_{TW} \\) is the aqueous volume outside of plasma into which drug distributes at equilibrium. As theophylline distributes into all body water spaces, volume = 42 L, and the plasma volume \\( V_p = 3 \\) L, it follows \\( V_{TW} = 39 \\) L. Therefore, as \\( V = 29 \\) L when \\( f_u = 0.6 \\), it follows that:\n",
    "\n",
    "$$\\frac{V_{TW}}{f_uT} = \\frac{29 \\text{ L} - 3 \\text{ L}}{0.6} = 43.3 \\text{ L}$$\n",
    "\n",
    "Substituting this ratio back into the equation for \\( V \\), and for an \\( f_u \\) of 0.3,\n",
    "\n",
    "$$V = V_p + \\frac{f_u \\cdot V_{TW}}{f_uT} = 3 \\text{ L} + 0.3 \\cdot 43.3 \\text{ L} = 16 \\text{ L}$$\n",
    "\n",
    "**ii. Unbound concentration = 9.4 mg/L.** The unbound concentration of theophylline is relatively insensitive to changes in the fraction unbound in plasma.\n",
    "\n",
    "$$\\text{Fraction unbound} = \\frac{\\text{Amount of body unbound}}{\\text{Total amount in body}} = \\frac{f_u \\cdot 42 \\text{ L}}{16 \\text{ L}} = \\frac{0.3 \\cdot 42 \\text{ L}}{16 \\text{ L}} = 0.79$$\n",
    "\n",
    "Hence,\n",
    "\n",
    "$$\\text{Cu} = \\frac{\\text{Fraction unbound in body} \\cdot \\text{Dose}}{42 \\text{ L}}$$\n",
    "\n",
    "$$= \\frac{0.79 \\cdot 500 \\text{ mg}}{42 \\text{ L}} = 9.4 \\text{ mg/L}$$\n",
    "\n",
    "Thus, for a twofold decrease in \\( f_u \\), despite the expected similar-fold decrease in \\( V \\) (from 29 to 16 L), the fraction of theophylline in the body unbound decreases by only about 9%. In practical terms, this means that for 500 mg in the body, the unbound concentration would only decrease from **10.3 mg/L** \\( (0.87 \\cdot 500 \\text{ mg}/42 \\text{ L}) \\) to **9.4 mg/L** \\( (0.79 \\cdot 500 \\text{ mg}/42 \\text{ L}) \\), a small drop, and of little clinical value.\n",
    "\n",
    "This example stresses the importance of focusing attention in drug therapy on the pharmacologically active unbound drug, especially when, as here, there are significant changes in the fraction of drug unbound in plasma. Basing conclusions on the total plasma concentration under these circumstances can be highly misleading.\n",
    "\n",
    "**Note:** Although the conclusion that \\( \\text{Cu} \\) will minimally change with a change in \\( f_u \\) could have been readily answered knowing that **87%** of the drug in the body is unbound when \\( f_u = 0.6 \\), in making quantitative decisions, it is important to go through the formal analysis, as the magnitude of change is not always so apparent.\n"
   ]
  },
  {
   "cell_type": "markdown",
   "metadata": {},
   "source": [
    "## **Exercise 9**  \n",
    "Meperidine is used as an i.v. analgesic. It is extensively metabolized with only 7% renally excreted. Its blood clearance is 700 mL/min. Using the well-stirred model of hepatic elimination, and a hepatic blood flow of 80 L/hr, calculate the expected change in blood clearance and half-life of meperidine had the hepatocellular activity (intrinsic clearance) responsible for its metabolism been:\n",
    "\n",
    "**(a)** Reduced by a factor of 5 by metabolic inhibition.  \n",
    "**(b)** Increased by a factor of 5 by metabolic induction.  \n",
    "**(c)** Comment on the quantitative changes expected.  "
   ]
  },
  {
   "cell_type": "markdown",
   "metadata": {},
   "source": [
    "**a. With inhibition, a 2.5-fold reduction in clearance and a 2.5-fold increase in half-life.**  \n",
    "\n",
    "Meperidine is a drug of intermediate hepatic extraction ratio. Its blood clearance is **700 mL/min** or **42 L/hr**. Correcting for the **7% renally excreted**,  \n",
    "\n",
    "$$E_H = \\frac{\\text{CL}_{b,H}}{(1 - fe)/Q_H}$$\n",
    "\n",
    "$$Q_H = 42 \\text{ L/hr} \\times (1 - 0.07)/80 \\text{ L/hr} = 0.49.$$\n",
    "\n",
    "The impact of a **fivefold reduction of hepatocellular activity** ($\\text{CL}_{\\text{int}}$ and hence $ f_u \\cdot \\text{CL}_{\\text{int}} $) on $ \\text{CL}_{b,H} $ is calculated as follows. Upon rearranging the well-stirred model,\n",
    "\n",
    "$$\\text{CL}_{b,H} = Q_H \\cdot \\left[ \\frac{f_u \\cdot \\text{CL}_{\\text{int}}}{Q_H + f_u \\cdot \\text{CL}_{\\text{int}}} \\right]$$\n",
    "\n",
    "yielding\n",
    "\n",
    "$$f_u \\cdot \\text{CL}_{\\text{int}} = Q_H \\cdot \\left[ \\frac{E_H}{1 - E_H} \\right]$$\n",
    "\n",
    "so that  \n",
    "\n",
    "$$f_u \\cdot \\text{CL}_{\\text{int}} = 80 \\cdot (1 - 0.49/0.49) = 83 \\text{ L/hr}.$$\n",
    "\n",
    "On reduction by **5-fold**,  \n",
    "\n",
    "$$f_u \\cdot \\text{CL}_{\\text{int}} = 16.7 \\text{ L/hr},$$\n",
    "\n",
    "which on substitution back gives  \n",
    "\n",
    "$$\\text{CL}_{b,H} = 13.8 \\text{ L/hr}.$$\n",
    "\n",
    "Adding this value to **renal blood clearance**,  \n",
    "\n",
    "$$2.94 \\text{ L/hr} \\quad (0.07 \\cdot 42 \\text{ L/hr}),$$\n",
    "\n",
    "gives  \n",
    "\n",
    "$$\\text{CL}_b = 16.7 \\text{ L/hr},$$\n",
    "\n",
    "a **2.5-fold (42 L/hr ÷ 16.7 L/hr) reduction** in **$\\text{CL}_{b,H}$**, much less than the decrease in **$ f_u \\cdot \\text{CL}_{\\text{int}} $**. **Half-life will therefore also increase by 2.5-fold.**  \n",
    "\n",
    "---\n",
    "\n",
    "**b. With induction, a 1.65-fold increase in clearance and a 1.65-fold reduction in half-life.**  \n",
    "\n",
    "Induction **increases $ f_u \\cdot \\text{CL}_{\\text{int}} $ by 5-fold**, to  \n",
    "\n",
    "$$415 \\text{ L/hr} \\quad (5 \\cdot 83 \\text{ L/hr}),$$\n",
    "\n",
    "which on substitution yields  \n",
    "\n",
    "$$\\text{CL}_{b,H} = 67 \\text{ L/hr}.$$\n",
    "\n",
    "Thus,  \n",
    "\n",
    "$$\\text{CL}_b = 69.4 \\text{ L/hr},$$\n",
    "\n",
    "a **1.65-fold (69.4 L/hr ÷ 42 L/hr) increase** in clearance, and a **corresponding 1.65-fold shortening of half-life**.  \n",
    "\n",
    "Overall, the expected impact of inhibition and induction on $ \\text{CL}_b $ of meperidine is **less severe** than changes occurring at the **enzymatic"
   ]
  },
  {
   "cell_type": "markdown",
   "metadata": {},
   "source": [
    "## **Exercise 10**  \n",
    "Table 5-14 summarizes the mean disposition kinetics of propranolol and disopyramide in healthy subjects. The predominant binding protein in plasma for both drugs is α₁-acid glycoprotein. As discussed in Chapter 4, Membranes and Distribution, the concentration of this protein is elevated in a number of stress conditions, including surgery, where for example the mean plasma concentration rises from 18 µM before surgery to 34 µM 5 days following surgery.\n",
    "\n",
    "_Table 5-14 | Pharmacokinetic Properties of Propranolol and Disopyramide_\n",
    "\n",
    "| Drug        | CL (L/kg) | V (L) | fc  | Plasma-Blood Concentration Ratio | fu  | Half-life (hr) |\n",
    "|------------|----------|------|-----|----------------------------------|-----|--------------|\n",
    "| Propranolol | 60       | 300  | 0.02 | 1.1                              | 0.1 | 3.5          |\n",
    "| Disopyramide | 3.5      | 37   | 0.46 | 0.9                              | 0.3 | 7.3          |\n",
    "\n",
    "**(a)** Calculate the anticipated fraction unbound of propranolol and disopyramide 5 days following surgery. Assume that α₁-acid glycoprotein is the only binding protein in plasma and that at therapeutic concentrations the fraction of sites available for binding (\\( f_u \\)) remains small.\n",
    "**(b)** Calculate the anticipated half-life of both drugs 5 days following surgery. Assume that the model of distribution represented by Eq. 4-25 (Chapter 4, Membranes and Distribution) applies to both drugs.\n",
    "**(c)** Comment on the statement, *“The half-life of a drug can be increased by increasing the extent of plasma protein binding.”*"
   ]
  },
  {
   "cell_type": "markdown",
   "metadata": {},
   "source": [
    "**a. Fraction unbound: propranolol 0.056, disopyramide 0.187.**  \n",
    "\n",
    "$$f_u = \\frac{1}{1 + K_a \\cdot P_t}$$\n",
    "\n",
    "Under control conditions, $ P_t = 18 $ μM so that for propranolol ($ f_u = 0.1 $) $ K_a = 0.5 $ μM$^{-1}$,  \n",
    "and for disopyramide ($ f_u = 0.3 $) $ K_a = 0.128 $ μM$^{-1}$.  \n",
    "Accordingly, when $ P_t = 34 $ μM,  \n",
    "\n",
    "$$\\text{propranolol } f_u = 0.056, \\quad \\text{disopyramide } f_u = 0.187.$$\n",
    "\n",
    "---\n",
    "\n",
    "**b. Propranolol half-life = 1.94 hr, disopyramide half-life = 7.3 hr.**  \n",
    "\n",
    "### **Propranolol**  \n",
    "\n",
    "#### **Clearance**\n",
    "This drug has a high blood clearance,  \n",
    "\n",
    "$$\\text{CL}_b = \\text{CL} \\cdot (\\text{blood} / \\text{plasma}) = 60 \\cdot 1.1 = 66 \\text{ L/hr},$$\n",
    "\n",
    "essentially all by hepatic elimination, given that $ f_e = 0.02 $.  \n",
    "Hence, its clearance is insensitive to changes in $ f_u $, certainly over the narrow two-fold range (from **0.1 to 0.056**).\n",
    "\n",
    "#### **Volume of Distribution**\n",
    "Under control conditions, $ V = 300 $ L,  \n",
    "\n",
    "$$V = V_p + V_T \\cdot f_u / f_uT,$$\n",
    "\n",
    "$ V_p $ can be ignored, and defining $ V' $ and $ f_u' $ as the new volume of distribution and fraction unbound respective,  \n",
    "it follows that  \n",
    "\n",
    "$$V = V' \\cdot f_u / f_u',$$\n",
    "\n",
    "which on substitution gives  \n",
    "\n",
    "$$V' = 300 \\cdot (0.056/0.1) = 168 \\text{ L}.$$\n",
    "\n",
    "#### **Half-life**\n",
    "Accordingly, the $ t_{1/2} $ on **Day 5 after surgery** is:\n",
    "\n",
    "$$0.693 \\cdot \\frac{168 \\text{ L}}{60 \\text{ L/hr}} = 1.94 \\text{ hr}.$$\n",
    "\n",
    "Hence, compared with the control value (**3.5 hr**), the elevation of **α$_1$-acid glycoprotein** by surgery is expected to cause a shortening in the **$ t_{1/2} $ of propranolol**.\n",
    "\n",
    "---\n",
    "\n",
    "### **Disopyramide**  \n",
    "\n",
    "#### **Clearance**\n",
    "This is a low-clearance compound; its **blood clearance** is  \n",
    "\n",
    "$$3.15 \\text{ L/hr}, \\quad 3.5 \\text{ L/hr} \\cdot 0.9 \\quad (\\text{plasma/blood ratio}),$$\n",
    "\n",
    "is low, and given that **$ f_e = 0.46 $**,  \n",
    "\n",
    "$$\\text{CL}_{b,H} \\text{ and } \\text{CL}_{b,R} \\text{ are } 1.6 \\text{ L/hr and } 1.5 \\text{ L/hr},$$\n",
    "\n",
    "both low relative to their respective organ blood flows.  \n",
    "Hence, for this drug,  \n",
    "\n",
    "$$\\text{CL} = f_u \\cdot \\text{CL}_{\\text{int}},$$\n",
    "\n",
    "so that after surgery,  \n",
    "\n",
    "$$\\text{CL} = (0.18/0.30) \\cdot 3.5 \\text{ L/hr} = 2.08 \\text{ L/hr}.$$\n",
    "\n",
    "#### **Volume of Distribution**\n",
    "Based on the same procedure applied to propranolol, for **disopyramide**:\n",
    "\n",
    "$$V = 37 \\text{ L} \\Rightarrow 21 \\text{ L} = 23 \\text{ L}.$$\n",
    "\n",
    "#### **Half-life**\n",
    "Accordingly, the $ t_{1/2} $ on **Day 5 after surgery** is:\n",
    "\n",
    "$$0.693 \\cdot \\frac{21 \\text{ L}}{2.08 \\text{ L/hr}} = 7.0 \\text{ hr}.$$\n",
    "\n",
    "which is **similar to the control value (7.7 hr)**.  \n",
    "It is **not surprising that the elevation of α$_1$-acid glycoprotein by surgery is only expected to produce little or no change in the half-life of disopyramide.**\n"
   ]
  }
 ],
 "metadata": {
  "kernelspec": {
   "display_name": "env",
   "language": "python",
   "name": "python3"
  },
  "language_info": {
   "codemirror_mode": {
    "name": "ipython",
    "version": 3
   },
   "file_extension": ".py",
   "mimetype": "text/x-python",
   "name": "python",
   "nbconvert_exporter": "python",
   "pygments_lexer": "ipython3",
   "version": "3.12.6"
  }
 },
 "nbformat": 4,
 "nbformat_minor": 2
}
